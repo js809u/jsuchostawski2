{
 "cells": [
  {
   "cell_type": "markdown",
   "id": "36e8f63f-3d4f-40fa-8054-9eece33d7cb0",
   "metadata": {},
   "source": [
    "# A/A Simulation and Power Analysis Example with Gemini"
   ]
  },
  {
   "cell_type": "markdown",
   "id": "0ea20239-e32c-4576-ba3c-80c3767e2500",
   "metadata": {},
   "source": [
    "**Instructions:** \n",
    "- <font color='red'>Make sure you are using a dedicated virtual environment for Constellation.</font> For more info and to create one, see ds_measurement/setup.ipynb.\n",
    "- To conduct a power analysis with Gemini, you only need to make change to section 2. Set Parameters. Parameters that may be changed are in ALL CAPS.\n",
    "\n",
    "**Considerations:** \n",
    "- These methods do not allow test periods to overlap with the training (splitting) period."
   ]
  },
  {
   "cell_type": "markdown",
   "id": "607d6c75-1ea6-4a04-95ea-a363c3f22b50",
   "metadata": {
    "tags": []
   },
   "source": [
    "## 1. Prepare the environment"
   ]
  },
  {
   "cell_type": "code",
   "execution_count": 95,
   "id": "6df42456-6634-4f8c-a24e-7a131aec32e5",
   "metadata": {
    "execution": {
     "iopub.execute_input": "2024-05-15T15:37:45.543900Z",
     "iopub.status.busy": "2024-05-15T15:37:45.543124Z",
     "iopub.status.idle": "2024-05-15T15:37:50.022736Z",
     "shell.execute_reply": "2024-05-15T15:37:50.021676Z",
     "shell.execute_reply.started": "2024-05-15T15:37:45.543861Z"
    },
    "tags": []
   },
   "outputs": [
    {
     "name": "stdout",
     "output_type": "stream",
     "text": [
      "Looking in indexes: https://artifactory-haproxy.service.intradsm1.consul.csnzoo.com:8099/artifactory/api/pypi/python/simple, https://artifactory-haproxy.service.intradsm1.consul.csnzoo.com:8099/artifactory/api/pypi/pypi-mirror/simple\n",
      "Requirement already satisfied: wfconstellation in /opt/conda/lib/python3.7/site-packages (0.3.41)\n",
      "Requirement already satisfied: dataclasses>=0.6 in /opt/conda/lib/python3.7/site-packages (from wfconstellation) (0.6)\n",
      "Requirement already satisfied: gurobipy>=9.1.2 in /opt/conda/lib/python3.7/site-packages (from wfconstellation) (10.0.3)\n",
      "Requirement already satisfied: importlib-resources>=5.4.0 in /opt/conda/lib/python3.7/site-packages (from wfconstellation) (5.12.0)\n",
      "Requirement already satisfied: matplotlib>=3.3.4 in /opt/conda/lib/python3.7/site-packages (from wfconstellation) (3.5.3)\n",
      "Requirement already satisfied: numpy>=1.19.5 in /opt/conda/lib/python3.7/site-packages (from wfconstellation) (1.21.6)\n",
      "Requirement already satisfied: pandas>=1.1.5 in /opt/conda/lib/python3.7/site-packages (from wfconstellation) (1.3.5)\n",
      "Requirement already satisfied: pulp>=2.6.0 in /opt/conda/lib/python3.7/site-packages (from wfconstellation) (2.8.0)\n",
      "Requirement already satisfied: pyarrow>=6.0.1 in /opt/conda/lib/python3.7/site-packages (from wfconstellation) (11.0.0)\n",
      "Requirement already satisfied: scikit-learn>=0.24.2 in /opt/conda/lib/python3.7/site-packages (from wfconstellation) (1.0.2)\n",
      "Requirement already satisfied: scipy>=1.5.4 in /opt/conda/lib/python3.7/site-packages (from wfconstellation) (1.7.3)\n",
      "Requirement already satisfied: seaborn>=0.11.2 in /opt/conda/lib/python3.7/site-packages (from wfconstellation) (0.12.2)\n",
      "Requirement already satisfied: statsmodels>=0.12.2 in /opt/conda/lib/python3.7/site-packages (from wfconstellation) (0.13.5)\n",
      "Requirement already satisfied: tqdm>=4.64.0 in /opt/conda/lib/python3.7/site-packages (from wfconstellation) (4.64.1)\n",
      "Requirement already satisfied: wf-config>=1.0.1 in /opt/conda/lib/python3.7/site-packages (from wfconstellation) (2.2.0)\n",
      "Requirement already satisfied: zipp>=3.1.0 in /opt/conda/lib/python3.7/site-packages (from importlib-resources>=5.4.0->wfconstellation) (3.15.0)\n",
      "Requirement already satisfied: cycler>=0.10 in /opt/conda/lib/python3.7/site-packages (from matplotlib>=3.3.4->wfconstellation) (0.11.0)\n",
      "Requirement already satisfied: fonttools>=4.22.0 in /opt/conda/lib/python3.7/site-packages (from matplotlib>=3.3.4->wfconstellation) (4.38.0)\n",
      "Requirement already satisfied: kiwisolver>=1.0.1 in /opt/conda/lib/python3.7/site-packages (from matplotlib>=3.3.4->wfconstellation) (1.4.4)\n",
      "Requirement already satisfied: packaging>=20.0 in /opt/conda/lib/python3.7/site-packages (from matplotlib>=3.3.4->wfconstellation) (23.1)\n",
      "Requirement already satisfied: pillow>=6.2.0 in /opt/conda/lib/python3.7/site-packages (from matplotlib>=3.3.4->wfconstellation) (9.5.0)\n",
      "Requirement already satisfied: pyparsing>=2.2.1 in /opt/conda/lib/python3.7/site-packages (from matplotlib>=3.3.4->wfconstellation) (2.4.7)\n",
      "Requirement already satisfied: python-dateutil>=2.7 in /opt/conda/lib/python3.7/site-packages (from matplotlib>=3.3.4->wfconstellation) (2.8.2)\n",
      "Requirement already satisfied: pytz>=2017.3 in /opt/conda/lib/python3.7/site-packages (from pandas>=1.1.5->wfconstellation) (2023.3)\n",
      "Requirement already satisfied: joblib>=0.11 in /opt/conda/lib/python3.7/site-packages (from scikit-learn>=0.24.2->wfconstellation) (1.2.0)\n",
      "Requirement already satisfied: threadpoolctl>=2.0.0 in /opt/conda/lib/python3.7/site-packages (from scikit-learn>=0.24.2->wfconstellation) (3.1.0)\n",
      "Requirement already satisfied: typing_extensions in /opt/conda/lib/python3.7/site-packages (from seaborn>=0.11.2->wfconstellation) (4.3.0)\n",
      "Requirement already satisfied: patsy>=0.5.2 in /opt/conda/lib/python3.7/site-packages (from statsmodels>=0.12.2->wfconstellation) (0.5.3)\n",
      "Requirement already satisfied: six in /opt/conda/lib/python3.7/site-packages (from patsy>=0.5.2->statsmodels>=0.12.2->wfconstellation) (1.16.0)\n"
     ]
    }
   ],
   "source": [
    "import sys  # using sys.executable forces installation in the active kernel\n",
    "!{sys.executable} -m pip install --upgrade wfconstellation"
   ]
  },
  {
   "cell_type": "code",
   "execution_count": 96,
   "id": "aa922439-7ddf-403b-ba2b-e76a640f487e",
   "metadata": {
    "execution": {
     "iopub.execute_input": "2024-05-15T15:37:53.035751Z",
     "iopub.status.busy": "2024-05-15T15:37:53.035355Z",
     "iopub.status.idle": "2024-05-15T15:37:53.041496Z",
     "shell.execute_reply": "2024-05-15T15:37:53.040208Z",
     "shell.execute_reply.started": "2024-05-15T15:37:53.035720Z"
    },
    "tags": []
   },
   "outputs": [
    {
     "name": "stdout",
     "output_type": "stream",
     "text": [
      "0.3.41\n"
     ]
    }
   ],
   "source": [
    "import wfconstellation\n",
    "print(wfconstellation.__version__)"
   ]
  },
  {
   "cell_type": "code",
   "execution_count": 97,
   "id": "7361ea51-5523-4849-b3d9-ec30e83f0656",
   "metadata": {
    "execution": {
     "iopub.execute_input": "2024-05-15T15:38:03.727580Z",
     "iopub.status.busy": "2024-05-15T15:38:03.726680Z",
     "iopub.status.idle": "2024-05-15T15:38:03.735304Z",
     "shell.execute_reply": "2024-05-15T15:38:03.734064Z",
     "shell.execute_reply.started": "2024-05-15T15:38:03.727531Z"
    },
    "tags": []
   },
   "outputs": [],
   "source": [
    "from datetime import datetime as dt\n",
    "from google.cloud import bigquery\n",
    "from IPython.core.interactiveshell import InteractiveShell\n",
    "from matplotlib import pyplot as plt\n",
    "import numpy as np\n",
    "import pandas as pd\n",
    "import pandas_gbq\n",
    "import pickle\n",
    "import seaborn as sns\n",
    "\n",
    "from wfconstellation.common_classes import TimeWindow\n",
    "from wfconstellation.methodology.aa_simulation import AASimulation\n",
    "\n",
    "# Global options\n",
    "InteractiveShell.ast_node_interactivity = \"all\""
   ]
  },
  {
   "cell_type": "markdown",
   "id": "dfc37c51-4ede-4b32-90ee-7845c4516000",
   "metadata": {},
   "source": [
    "Review the parameters in this section and change them as appropriate.\n",
    "\n",
    "#### 2a. Query parameters\n",
    "- QUERY: The query for pulling data to use for simulations. If using the example query, you do not need to change this parameter."
   ]
  },
  {
   "cell_type": "code",
   "execution_count": 98,
   "id": "5bcf98f5-c67b-428d-a3b3-6dda6990dfa1",
   "metadata": {
    "execution": {
     "iopub.execute_input": "2024-05-15T15:38:05.251872Z",
     "iopub.status.busy": "2024-05-15T15:38:05.250998Z",
     "iopub.status.idle": "2024-05-15T15:38:05.255946Z",
     "shell.execute_reply": "2024-05-15T15:38:05.254868Z",
     "shell.execute_reply.started": "2024-05-15T15:38:05.251836Z"
    },
    "tags": []
   },
   "outputs": [],
   "source": [
    "# Query parameters\n",
    "# Below is a query for an example PLA data set. \n",
    "QUERY = \"\"\"SELECT * from `wf-gcp-us-ae-mktg-prod.junk.wfuk_quickview_removal_urls_td`\"\"\""
   ]
  },
  {
   "cell_type": "markdown",
   "id": "34f154dc-747e-486e-b748-8e57eff8f6e7",
   "metadata": {
    "tags": []
   },
   "source": [
    "#### 2b. Simulation parameters\n",
    "Note: the total number of simulations to run is equal to the product of (the number of dates in TEST_START; NUM_UNIT_SUBSAMPLES; and the number of split ratios in SIM_SPLIT_RATIOS).\n",
    "\n",
    "<ins>Design parameters</ins>\n",
    "- METRICS: List of strings, where each string is a metric to split on.\n",
    "- SIM_SPLIT_RATIOS: List of lists of split ratios. Each element in outer list is a list of split ratios where the number of split ratios corresponds to the number of (treatment and control) groups. For example [[0.1, 0.9], [0.2, 0.8], [0.5, 0.5]] would run simulations for three 2-group experiments, with a set of simulations with one group comprising 0.1 of target market share, another set of simulation with one group at 0.2, and another at 0.5. In contrast, [[0.1, 0.2, 0.7]] would run simulations for a 3-group experiment, with only one set of simulations run with one group of 0.1, another with 0.2, and another with 0.7. Numbers in each sub-list must sum to 1.\n",
    "- LEN_TRAIN: Float specifying length of the training window in days.\n",
    "- LEN_PRIOR: Float specifying length of prior window (interval between train and test windows) in days. If this value is positive, then the prior period will be a period immediately following the training period. If this value is negative, then the prior period will be the final 'len_prior' days of the training period, that is, it will overlap with the training period and end on the final day of the training period.\n",
    "- LEN_TEST: Float specifying length of test window in days.\n",
    "- TEST_START: List of distinct test (not design) start dates to use (datetimes or date-like strings).\n",
    "    - `Guidance:` We recommend providing 3 dates, one month apart, and as recent as possible. Note that these indicate the start of the simulated test period, so you need to make sure you have enough data before and after these dates to run the simulated test (e.g., at least 28 days after if LEN_TEST=28).\n",
    "- NUM_UNIT_SUBSAMPLES: Integer number of samples of experimental units (e.g., bidding units) to create for each SIM_SPLIT_RATIO and TEST_START. Each sample will be of size SUBSAMPLE_SIZE.\n",
    "- DESIGN_METHODS: List specifying Gemini design methods. Can be 'V1', 'V2', or 'iterative', or a list of multiple of those.\n",
    "- SUBSAMPLE_SIZE: float specifying the size of the sample to take.\n",
    "    - If in (0, 1], then it is interpreted as a proportion of the number of units in data.\n",
    "    - if >1, then it is interpreted as the number of units to sample. For example, 1000 will produce samples each containing data for 1000 unique units.\n",
    "- UNIT_COLUMN: String specifying the name of the column containing experimental units (e.g., geos).\n",
    "- DATE_COLUMN: String specifying the name of the column containing dates.\n",
    "\n",
    "<ins>Measurement parameters</ins>\n",
    "- CONFIDENCE_LEVEL: The confidence level used for statistical estimates (e.g., 1-alpha).\n",
    "- POWER: The power (1-beta) used for minimum detectable lift ratio calculations.\n",
    "\n",
    "<ins>Parameters for both design and measurement</ins>\n",
    "- RUN_LONG_EXAMPLE: True or False, indicating whether you want to run the longer simulation example (more sims)\n",
    "- EXCLUSION_DATES: list of dates (or date-like strings) you want to exclude from design and measurement. We recommend excluding dates of sale days, especially Way Day and Cyber 5. \n",
    "    - `Guidance:` `Please check that the exclusion dates listed make sense for your data, and revise them if they do not.` For example, you can use a list of dates you choose: EXCLUSION_DATES = ['2021-12-25', '2022-01-01']."
   ]
  },
  {
   "cell_type": "code",
   "execution_count": 167,
   "id": "742be864-f007-44f8-b175-a0c49ed47ab5",
   "metadata": {
    "execution": {
     "iopub.execute_input": "2024-05-15T16:42:52.520239Z",
     "iopub.status.busy": "2024-05-15T16:42:52.519861Z",
     "iopub.status.idle": "2024-05-15T16:42:52.528148Z",
     "shell.execute_reply": "2024-05-15T16:42:52.526702Z",
     "shell.execute_reply.started": "2024-05-15T16:42:52.520206Z"
    },
    "tags": []
   },
   "outputs": [
    {
     "name": "stdout",
     "output_type": "stream",
     "text": [
      "Dates that will be excluded from design and measurement: ['2024-05-04', '2024-05-05', '2024-05-06'].\n"
     ]
    }
   ],
   "source": [
    "# Design parameters\n",
    "METRICS = ['Traffic', 'Clicks', 'Impressions','avgPosition']\n",
    "SIM_SPLIT_RATIOS = [[0.5, 0.5]]\n",
    "LEN_TRAIN = 90\n",
    "LEN_PRIOR = -28\n",
    "LEN_TEST = 28\n",
    "TEST_START = ['2024-04-01','2024-03-20','2024-03-10']\n",
    "NUM_UNIT_SUBSAMPLES = 10\n",
    "DESIGN_METHODS = ['iterative']\n",
    "SUBSAMPLE_SIZE = 0.9\n",
    "UNIT_COLUMN = 'url'\n",
    "DATE_COLUMN = 'day'\n",
    "CUTOVER_RANGES = [0.01, 0.03, 0.05] \n",
    "SUBGROUP_RANGES = [5,10,15,20] \n",
    "\n",
    "# Measurement parameters\n",
    "CONFIDENCE_LEVEL = 0.9\n",
    "POWER = 0.8\n",
    "\n",
    "# Parameters for both design and measurement\n",
    "RUN_SHORT_EXAMPLE = True  # Use True to run quick example to test that notebook is working\n",
    "EXCLUSION_DATES = ['2024-05-04','2024-05-05','2024-05-06' ]\n",
    "print(f\"Dates that will be excluded from design and measurement: {EXCLUSION_DATES}.\")"
   ]
  },
  {
   "cell_type": "markdown",
   "id": "aba1718b-dfcf-48da-888c-e9ee852262dd",
   "metadata": {
    "tags": []
   },
   "source": [
    "#### 2c. Results storage parameters\n",
    "- READ_LOCAL_RESULTS: True or False, indicating whether you want to read simulation results from a local file.\n",
    "- WRITE_LOCAL_RESULTS: True or False, indicating whether you want to write simulation results to a local file.\n",
    "- DIR: Directory where you want to store simulation results. Must be a valid directory, even if you do not want to store result locally.\n",
    "- ADDITIONAL_FILE_TAG: string specifying any additional text to append to results file name. The base file name is gemini_sim_measure_\\<current datetime>"
   ]
  },
  {
   "cell_type": "code",
   "execution_count": 168,
   "id": "9393caae-0ff5-4977-a45a-cf64dabe854d",
   "metadata": {
    "execution": {
     "iopub.execute_input": "2024-05-15T16:42:54.247287Z",
     "iopub.status.busy": "2024-05-15T16:42:54.246318Z",
     "iopub.status.idle": "2024-05-15T16:42:54.252144Z",
     "shell.execute_reply": "2024-05-15T16:42:54.251074Z",
     "shell.execute_reply.started": "2024-05-15T16:42:54.247248Z"
    },
    "tags": []
   },
   "outputs": [],
   "source": [
    "READ_LOCAL_RESULTS = False\n",
    "WRITE_LOCAL_RESULTS = False\n",
    "DIR =  '~/' \n",
    "ADDITIONAL_FILE_TAG = \"\"\n",
    "current_datetime = dt.now().strftime(\"%Y-%m-%d-%H-%M-%S\")\n",
    "measurement_results_file = f\"gemini_sim_measure_{current_datetime}{ADDITIONAL_FILE_TAG}.p\""
   ]
  },
  {
   "cell_type": "markdown",
   "id": "dfda03f0-9434-4837-9846-f84b220705e9",
   "metadata": {},
   "source": [
    "## 3. Pull the data "
   ]
  },
  {
   "cell_type": "code",
   "execution_count": 169,
   "id": "8bfcbdda-31b6-48a1-85b4-84fb979558ae",
   "metadata": {
    "execution": {
     "iopub.execute_input": "2024-05-15T16:42:55.039151Z",
     "iopub.status.busy": "2024-05-15T16:42:55.038505Z",
     "iopub.status.idle": "2024-05-15T16:42:58.590083Z",
     "shell.execute_reply": "2024-05-15T16:42:58.589110Z",
     "shell.execute_reply.started": "2024-05-15T16:42:55.039113Z"
    },
    "tags": []
   },
   "outputs": [],
   "source": [
    "# Fetch data\n",
    "client = bigquery.Client()\n",
    "data = client.query(QUERY).to_dataframe()"
   ]
  },
  {
   "cell_type": "code",
   "execution_count": 170,
   "id": "db2b4851-8116-42b4-97f5-76077602025a",
   "metadata": {
    "execution": {
     "iopub.execute_input": "2024-05-15T16:42:58.593128Z",
     "iopub.status.busy": "2024-05-15T16:42:58.592138Z",
     "iopub.status.idle": "2024-05-15T16:42:58.681804Z",
     "shell.execute_reply": "2024-05-15T16:42:58.680620Z",
     "shell.execute_reply.started": "2024-05-15T16:42:58.593092Z"
    },
    "tags": []
   },
   "outputs": [
    {
     "name": "stdout",
     "output_type": "stream",
     "text": [
      "<class 'pandas.core.frame.DataFrame'>\n",
      "RangeIndex: 1199970 entries, 0 to 1199969\n",
      "Data columns (total 6 columns):\n",
      " #   Column       Non-Null Count    Dtype  \n",
      "---  ------       --------------    -----  \n",
      " 0   day          1199970 non-null  dbdate \n",
      " 1   url          1199970 non-null  object \n",
      " 2   Traffic      1199970 non-null  Int64  \n",
      " 3   Clicks       840396 non-null   Int64  \n",
      " 4   Impressions  840396 non-null   Int64  \n",
      " 5   avgPosition  840396 non-null   float64\n",
      "dtypes: Int64(3), dbdate(1), float64(1), object(1)\n",
      "memory usage: 58.4+ MB\n"
     ]
    }
   ],
   "source": [
    "data.info()"
   ]
  },
  {
   "cell_type": "code",
   "execution_count": 171,
   "id": "a6fd01af-4547-4972-bd49-f259d1a55be4",
   "metadata": {
    "execution": {
     "iopub.execute_input": "2024-05-15T16:42:58.683274Z",
     "iopub.status.busy": "2024-05-15T16:42:58.682957Z",
     "iopub.status.idle": "2024-05-15T16:43:04.352130Z",
     "shell.execute_reply": "2024-05-15T16:43:04.351267Z",
     "shell.execute_reply.started": "2024-05-15T16:42:58.683244Z"
    },
    "tags": []
   },
   "outputs": [],
   "source": [
    "# Cast variables that you will use for design/measurement to appropriate data types: \n",
    "# int64 (lowercase), float64 (lowercase), or datetime.date\n",
    "\n",
    "data['day'] = pd.to_datetime(data['day'], format='%Y-%m-%d').dt.date"
   ]
  },
  {
   "cell_type": "code",
   "execution_count": 172,
   "id": "22451320-668b-4ce9-bb50-fb26ae929d7a",
   "metadata": {
    "execution": {
     "iopub.execute_input": "2024-05-15T16:43:04.355449Z",
     "iopub.status.busy": "2024-05-15T16:43:04.354543Z",
     "iopub.status.idle": "2024-05-15T16:43:04.446511Z",
     "shell.execute_reply": "2024-05-15T16:43:04.445497Z",
     "shell.execute_reply.started": "2024-05-15T16:43:04.355404Z"
    },
    "tags": []
   },
   "outputs": [
    {
     "data": {
      "text/plain": [
       "datetime.date(2023, 9, 15)"
      ]
     },
     "execution_count": 172,
     "metadata": {},
     "output_type": "execute_result"
    }
   ],
   "source": [
    "data['day'].min()"
   ]
  },
  {
   "cell_type": "code",
   "execution_count": 173,
   "id": "19942f73-ccfc-4cad-954d-76405a470545",
   "metadata": {
    "execution": {
     "iopub.execute_input": "2024-05-15T16:43:08.124067Z",
     "iopub.status.busy": "2024-05-15T16:43:08.123554Z",
     "iopub.status.idle": "2024-05-15T16:43:08.736949Z",
     "shell.execute_reply": "2024-05-15T16:43:08.735918Z",
     "shell.execute_reply.started": "2024-05-15T16:43:08.124030Z"
    },
    "tags": []
   },
   "outputs": [
    {
     "name": "stdout",
     "output_type": "stream",
     "text": [
      "<class 'pandas.core.frame.DataFrame'>\n",
      "Int64Index: 1199970 entries, 0 to 1199969\n",
      "Data columns (total 6 columns):\n",
      " #   Column       Non-Null Count    Dtype  \n",
      "---  ------       --------------    -----  \n",
      " 0   day          1199970 non-null  object \n",
      " 1   url          1199970 non-null  object \n",
      " 2   Traffic      1199970 non-null  Int64  \n",
      " 3   Clicks       840396 non-null   Int64  \n",
      " 4   Impressions  840396 non-null   Int64  \n",
      " 5   avgPosition  840396 non-null   float64\n",
      "dtypes: Int64(3), float64(1), object(2)\n",
      "memory usage: 67.5+ MB\n",
      "Number of unique units in data: 17481\n"
     ]
    },
    {
     "data": {
      "text/html": [
       "<div>\n",
       "<style scoped>\n",
       "    .dataframe tbody tr th:only-of-type {\n",
       "        vertical-align: middle;\n",
       "    }\n",
       "\n",
       "    .dataframe tbody tr th {\n",
       "        vertical-align: top;\n",
       "    }\n",
       "\n",
       "    .dataframe thead th {\n",
       "        text-align: right;\n",
       "    }\n",
       "</style>\n",
       "<table border=\"1\" class=\"dataframe\">\n",
       "  <thead>\n",
       "    <tr style=\"text-align: right;\">\n",
       "      <th></th>\n",
       "      <th>day</th>\n",
       "      <th>url</th>\n",
       "      <th>Traffic</th>\n",
       "      <th>Clicks</th>\n",
       "      <th>Impressions</th>\n",
       "      <th>avgPosition</th>\n",
       "    </tr>\n",
       "  </thead>\n",
       "  <tbody>\n",
       "    <tr>\n",
       "      <th>0</th>\n",
       "      <td>2023-12-21</td>\n",
       "      <td>https://www.wayfair.co.uk/furniture/sb1/tilt-l...</td>\n",
       "      <td>1</td>\n",
       "      <td>&lt;NA&gt;</td>\n",
       "      <td>&lt;NA&gt;</td>\n",
       "      <td>NaN</td>\n",
       "    </tr>\n",
       "    <tr>\n",
       "      <th>1</th>\n",
       "      <td>2023-12-21</td>\n",
       "      <td>https://www.wayfair.co.uk/garden/sb1/white-gar...</td>\n",
       "      <td>1</td>\n",
       "      <td>&lt;NA&gt;</td>\n",
       "      <td>&lt;NA&gt;</td>\n",
       "      <td>NaN</td>\n",
       "    </tr>\n",
       "    <tr>\n",
       "      <th>2</th>\n",
       "      <td>2023-12-21</td>\n",
       "      <td>https://www.wayfair.co.uk/furniture/sb2/gold-f...</td>\n",
       "      <td>2</td>\n",
       "      <td>&lt;NA&gt;</td>\n",
       "      <td>&lt;NA&gt;</td>\n",
       "      <td>NaN</td>\n",
       "    </tr>\n",
       "    <tr>\n",
       "      <th>3</th>\n",
       "      <td>2023-12-21</td>\n",
       "      <td>https://www.wayfair.co.uk/furniture/sb1/hangin...</td>\n",
       "      <td>1</td>\n",
       "      <td>&lt;NA&gt;</td>\n",
       "      <td>&lt;NA&gt;</td>\n",
       "      <td>NaN</td>\n",
       "    </tr>\n",
       "    <tr>\n",
       "      <th>4</th>\n",
       "      <td>2023-12-21</td>\n",
       "      <td>https://www.wayfair.co.uk/furniture/sb1/full-w...</td>\n",
       "      <td>1</td>\n",
       "      <td>&lt;NA&gt;</td>\n",
       "      <td>&lt;NA&gt;</td>\n",
       "      <td>NaN</td>\n",
       "    </tr>\n",
       "  </tbody>\n",
       "</table>\n",
       "</div>"
      ],
      "text/plain": [
       "          day                                                url  Traffic  \\\n",
       "0  2023-12-21  https://www.wayfair.co.uk/furniture/sb1/tilt-l...        1   \n",
       "1  2023-12-21  https://www.wayfair.co.uk/garden/sb1/white-gar...        1   \n",
       "2  2023-12-21  https://www.wayfair.co.uk/furniture/sb2/gold-f...        2   \n",
       "3  2023-12-21  https://www.wayfair.co.uk/furniture/sb1/hangin...        1   \n",
       "4  2023-12-21  https://www.wayfair.co.uk/furniture/sb1/full-w...        1   \n",
       "\n",
       "   Clicks  Impressions  avgPosition  \n",
       "0    <NA>         <NA>          NaN  \n",
       "1    <NA>         <NA>          NaN  \n",
       "2    <NA>         <NA>          NaN  \n",
       "3    <NA>         <NA>          NaN  \n",
       "4    <NA>         <NA>          NaN  "
      ]
     },
     "execution_count": 173,
     "metadata": {},
     "output_type": "execute_result"
    }
   ],
   "source": [
    "# Apply user selections to data/inputs\n",
    "if RUN_SHORT_EXAMPLE:\n",
    "    SIM_SPLIT_RATIOS = [[0.5, 0.5]]\n",
    "    TEST_START = ['2024-04-01','2024-03-20','2024-03-10']\n",
    "    NUM_UNIT_SUBSAMPLES = 10\n",
    "    CUTOVER_RANGES = [0.01,0.03,0.05] \n",
    "    SUBGROUP_RANGES = [5,10,15,20,]\n",
    "    DESIGN_METHODS = ['V1',]\n",
    "data = data[~data[DATE_COLUMN].isin(EXCLUSION_DATES)]  # Remove exclusion dates\n",
    "data.info()\n",
    "print(f\"Number of unique units in data: {data[UNIT_COLUMN].nunique()}\")\n",
    "data.head()"
   ]
  },
  {
   "cell_type": "code",
   "execution_count": 174,
   "id": "f8ba9e3f-97a1-47fe-8738-34909f8f6d5d",
   "metadata": {
    "execution": {
     "iopub.execute_input": "2024-05-15T16:43:09.501257Z",
     "iopub.status.busy": "2024-05-15T16:43:09.500271Z",
     "iopub.status.idle": "2024-05-15T16:43:09.541966Z",
     "shell.execute_reply": "2024-05-15T16:43:09.541066Z",
     "shell.execute_reply.started": "2024-05-15T16:43:09.501217Z"
    },
    "tags": []
   },
   "outputs": [
    {
     "data": {
      "text/html": [
       "<div>\n",
       "<style scoped>\n",
       "    .dataframe tbody tr th:only-of-type {\n",
       "        vertical-align: middle;\n",
       "    }\n",
       "\n",
       "    .dataframe tbody tr th {\n",
       "        vertical-align: top;\n",
       "    }\n",
       "\n",
       "    .dataframe thead th {\n",
       "        text-align: right;\n",
       "    }\n",
       "</style>\n",
       "<table border=\"1\" class=\"dataframe\">\n",
       "  <thead>\n",
       "    <tr style=\"text-align: right;\">\n",
       "      <th></th>\n",
       "      <th>day</th>\n",
       "      <th>url</th>\n",
       "      <th>Traffic</th>\n",
       "      <th>Clicks</th>\n",
       "      <th>Impressions</th>\n",
       "      <th>avgPosition</th>\n",
       "    </tr>\n",
       "  </thead>\n",
       "  <tbody>\n",
       "    <tr>\n",
       "      <th>0</th>\n",
       "      <td>2023-12-21</td>\n",
       "      <td>https://www.wayfair.co.uk/furniture/sb1/tilt-l...</td>\n",
       "      <td>1</td>\n",
       "      <td>&lt;NA&gt;</td>\n",
       "      <td>&lt;NA&gt;</td>\n",
       "      <td>NaN</td>\n",
       "    </tr>\n",
       "    <tr>\n",
       "      <th>1</th>\n",
       "      <td>2023-12-21</td>\n",
       "      <td>https://www.wayfair.co.uk/garden/sb1/white-gar...</td>\n",
       "      <td>1</td>\n",
       "      <td>&lt;NA&gt;</td>\n",
       "      <td>&lt;NA&gt;</td>\n",
       "      <td>NaN</td>\n",
       "    </tr>\n",
       "    <tr>\n",
       "      <th>2</th>\n",
       "      <td>2023-12-21</td>\n",
       "      <td>https://www.wayfair.co.uk/furniture/sb2/gold-f...</td>\n",
       "      <td>2</td>\n",
       "      <td>&lt;NA&gt;</td>\n",
       "      <td>&lt;NA&gt;</td>\n",
       "      <td>NaN</td>\n",
       "    </tr>\n",
       "    <tr>\n",
       "      <th>3</th>\n",
       "      <td>2023-12-21</td>\n",
       "      <td>https://www.wayfair.co.uk/furniture/sb1/hangin...</td>\n",
       "      <td>1</td>\n",
       "      <td>&lt;NA&gt;</td>\n",
       "      <td>&lt;NA&gt;</td>\n",
       "      <td>NaN</td>\n",
       "    </tr>\n",
       "    <tr>\n",
       "      <th>4</th>\n",
       "      <td>2023-12-21</td>\n",
       "      <td>https://www.wayfair.co.uk/furniture/sb1/full-w...</td>\n",
       "      <td>1</td>\n",
       "      <td>&lt;NA&gt;</td>\n",
       "      <td>&lt;NA&gt;</td>\n",
       "      <td>NaN</td>\n",
       "    </tr>\n",
       "    <tr>\n",
       "      <th>...</th>\n",
       "      <td>...</td>\n",
       "      <td>...</td>\n",
       "      <td>...</td>\n",
       "      <td>...</td>\n",
       "      <td>...</td>\n",
       "      <td>...</td>\n",
       "    </tr>\n",
       "    <tr>\n",
       "      <th>1199965</th>\n",
       "      <td>2023-12-20</td>\n",
       "      <td>https://www.wayfair.co.uk/kitchenware-tablewar...</td>\n",
       "      <td>4</td>\n",
       "      <td>2</td>\n",
       "      <td>215</td>\n",
       "      <td>12.925179</td>\n",
       "    </tr>\n",
       "    <tr>\n",
       "      <th>1199966</th>\n",
       "      <td>2023-12-20</td>\n",
       "      <td>https://www.wayfair.co.uk/storage-organisation...</td>\n",
       "      <td>1</td>\n",
       "      <td>1</td>\n",
       "      <td>218</td>\n",
       "      <td>8.332564</td>\n",
       "    </tr>\n",
       "    <tr>\n",
       "      <th>1199967</th>\n",
       "      <td>2023-12-20</td>\n",
       "      <td>https://www.wayfair.co.uk/furniture/sb1/drawer...</td>\n",
       "      <td>6</td>\n",
       "      <td>8</td>\n",
       "      <td>221</td>\n",
       "      <td>2.960721</td>\n",
       "    </tr>\n",
       "    <tr>\n",
       "      <th>1199968</th>\n",
       "      <td>2023-12-20</td>\n",
       "      <td>https://www.wayfair.co.uk/furniture/sb1/floati...</td>\n",
       "      <td>7</td>\n",
       "      <td>6</td>\n",
       "      <td>222</td>\n",
       "      <td>6.258508</td>\n",
       "    </tr>\n",
       "    <tr>\n",
       "      <th>1199969</th>\n",
       "      <td>2023-12-20</td>\n",
       "      <td>https://www.wayfair.co.uk/textiles-bedding/sb1...</td>\n",
       "      <td>2</td>\n",
       "      <td>2</td>\n",
       "      <td>244</td>\n",
       "      <td>6.712153</td>\n",
       "    </tr>\n",
       "  </tbody>\n",
       "</table>\n",
       "<p>1199970 rows × 6 columns</p>\n",
       "</div>"
      ],
      "text/plain": [
       "                day                                                url  \\\n",
       "0        2023-12-21  https://www.wayfair.co.uk/furniture/sb1/tilt-l...   \n",
       "1        2023-12-21  https://www.wayfair.co.uk/garden/sb1/white-gar...   \n",
       "2        2023-12-21  https://www.wayfair.co.uk/furniture/sb2/gold-f...   \n",
       "3        2023-12-21  https://www.wayfair.co.uk/furniture/sb1/hangin...   \n",
       "4        2023-12-21  https://www.wayfair.co.uk/furniture/sb1/full-w...   \n",
       "...             ...                                                ...   \n",
       "1199965  2023-12-20  https://www.wayfair.co.uk/kitchenware-tablewar...   \n",
       "1199966  2023-12-20  https://www.wayfair.co.uk/storage-organisation...   \n",
       "1199967  2023-12-20  https://www.wayfair.co.uk/furniture/sb1/drawer...   \n",
       "1199968  2023-12-20  https://www.wayfair.co.uk/furniture/sb1/floati...   \n",
       "1199969  2023-12-20  https://www.wayfair.co.uk/textiles-bedding/sb1...   \n",
       "\n",
       "         Traffic  Clicks  Impressions  avgPosition  \n",
       "0              1    <NA>         <NA>          NaN  \n",
       "1              1    <NA>         <NA>          NaN  \n",
       "2              2    <NA>         <NA>          NaN  \n",
       "3              1    <NA>         <NA>          NaN  \n",
       "4              1    <NA>         <NA>          NaN  \n",
       "...          ...     ...          ...          ...  \n",
       "1199965        4       2          215    12.925179  \n",
       "1199966        1       1          218     8.332564  \n",
       "1199967        6       8          221     2.960721  \n",
       "1199968        7       6          222     6.258508  \n",
       "1199969        2       2          244     6.712153  \n",
       "\n",
       "[1199970 rows x 6 columns]"
      ]
     },
     "execution_count": 174,
     "metadata": {},
     "output_type": "execute_result"
    }
   ],
   "source": [
    "data\n",
    "data['Traffic'] = data['Traffic'].astype('float64')\n",
    "data['Clicks'] = data['Clicks'].astype('float64')\n",
    "data['Impressions'] = data['Impressions'].astype('float64')\n",
    "data['avgPosition'] = data['avgPosition'].astype('float64')"
   ]
  },
  {
   "cell_type": "markdown",
   "id": "405247ed-94b6-4372-8f92-0f3ef316112a",
   "metadata": {},
   "source": [
    "## 4. Design simulated experiments"
   ]
  },
  {
   "cell_type": "code",
   "execution_count": 175,
   "id": "190f3b7d-7811-4e6f-83d8-c2350897a7f8",
   "metadata": {
    "execution": {
     "iopub.execute_input": "2024-05-15T16:43:12.075226Z",
     "iopub.status.busy": "2024-05-15T16:43:12.074504Z",
     "iopub.status.idle": "2024-05-15T16:43:12.187696Z",
     "shell.execute_reply": "2024-05-15T16:43:12.186570Z",
     "shell.execute_reply.started": "2024-05-15T16:43:12.075187Z"
    },
    "tags": []
   },
   "outputs": [],
   "source": [
    "test_sim = AASimulation(\n",
    "    data=data,  \n",
    "    unit_column=UNIT_COLUMN,\n",
    "    sim_split_ratios=SIM_SPLIT_RATIOS,  \n",
    "    test_start=TEST_START,\n",
    "    len_train=LEN_TRAIN,\n",
    "    len_prior=LEN_PRIOR,\n",
    "    len_test=LEN_TEST\n",
    ")"
   ]
  },
  {
   "cell_type": "code",
   "execution_count": 176,
   "id": "7a20faf6-484d-405a-b0c6-ff10423cfffa",
   "metadata": {
    "execution": {
     "iopub.execute_input": "2024-05-15T16:43:14.157942Z",
     "iopub.status.busy": "2024-05-15T16:43:14.156661Z",
     "iopub.status.idle": "2024-05-15T16:48:25.398080Z",
     "shell.execute_reply": "2024-05-15T16:48:25.396311Z",
     "shell.execute_reply.started": "2024-05-15T16:43:14.157888Z"
    },
    "tags": []
   },
   "outputs": [
    {
     "data": {
      "application/vnd.jupyter.widget-view+json": {
       "model_id": "826dc059885e44e7b6fc7497f6929214",
       "version_major": 2,
       "version_minor": 0
      },
      "text/plain": [
       "Total progress:   0%|          | 0/10 [00:00<?, ?it/s]"
      ]
     },
     "metadata": {},
     "output_type": "display_data"
    },
    {
     "data": {
      "application/vnd.jupyter.widget-view+json": {
       "model_id": "",
       "version_major": 2,
       "version_minor": 0
      },
      "text/plain": [
       "Sub-progress: dates:   0%|          | 0/3 [00:00<?, ?it/s]"
      ]
     },
     "metadata": {},
     "output_type": "display_data"
    },
    {
     "data": {
      "application/vnd.jupyter.widget-view+json": {
       "model_id": "",
       "version_major": 2,
       "version_minor": 0
      },
      "text/plain": [
       "Sub-progress: split ratios:   0%|          | 0/1 [00:00<?, ?it/s]"
      ]
     },
     "metadata": {},
     "output_type": "display_data"
    },
    {
     "data": {
      "application/vnd.jupyter.widget-view+json": {
       "model_id": "",
       "version_major": 2,
       "version_minor": 0
      },
      "text/plain": [
       "Sub-progress: split ratios:   0%|          | 0/1 [00:00<?, ?it/s]"
      ]
     },
     "metadata": {},
     "output_type": "display_data"
    },
    {
     "data": {
      "application/vnd.jupyter.widget-view+json": {
       "model_id": "",
       "version_major": 2,
       "version_minor": 0
      },
      "text/plain": [
       "Sub-progress: split ratios:   0%|          | 0/1 [00:00<?, ?it/s]"
      ]
     },
     "metadata": {},
     "output_type": "display_data"
    },
    {
     "data": {
      "application/vnd.jupyter.widget-view+json": {
       "model_id": "",
       "version_major": 2,
       "version_minor": 0
      },
      "text/plain": [
       "Sub-progress: dates:   0%|          | 0/3 [00:00<?, ?it/s]"
      ]
     },
     "metadata": {},
     "output_type": "display_data"
    },
    {
     "data": {
      "application/vnd.jupyter.widget-view+json": {
       "model_id": "",
       "version_major": 2,
       "version_minor": 0
      },
      "text/plain": [
       "Sub-progress: split ratios:   0%|          | 0/1 [00:00<?, ?it/s]"
      ]
     },
     "metadata": {},
     "output_type": "display_data"
    },
    {
     "data": {
      "application/vnd.jupyter.widget-view+json": {
       "model_id": "",
       "version_major": 2,
       "version_minor": 0
      },
      "text/plain": [
       "Sub-progress: split ratios:   0%|          | 0/1 [00:00<?, ?it/s]"
      ]
     },
     "metadata": {},
     "output_type": "display_data"
    },
    {
     "data": {
      "application/vnd.jupyter.widget-view+json": {
       "model_id": "",
       "version_major": 2,
       "version_minor": 0
      },
      "text/plain": [
       "Sub-progress: split ratios:   0%|          | 0/1 [00:00<?, ?it/s]"
      ]
     },
     "metadata": {},
     "output_type": "display_data"
    },
    {
     "data": {
      "application/vnd.jupyter.widget-view+json": {
       "model_id": "",
       "version_major": 2,
       "version_minor": 0
      },
      "text/plain": [
       "Sub-progress: dates:   0%|          | 0/3 [00:00<?, ?it/s]"
      ]
     },
     "metadata": {},
     "output_type": "display_data"
    },
    {
     "data": {
      "application/vnd.jupyter.widget-view+json": {
       "model_id": "",
       "version_major": 2,
       "version_minor": 0
      },
      "text/plain": [
       "Sub-progress: split ratios:   0%|          | 0/1 [00:00<?, ?it/s]"
      ]
     },
     "metadata": {},
     "output_type": "display_data"
    },
    {
     "data": {
      "application/vnd.jupyter.widget-view+json": {
       "model_id": "",
       "version_major": 2,
       "version_minor": 0
      },
      "text/plain": [
       "Sub-progress: split ratios:   0%|          | 0/1 [00:00<?, ?it/s]"
      ]
     },
     "metadata": {},
     "output_type": "display_data"
    },
    {
     "data": {
      "application/vnd.jupyter.widget-view+json": {
       "model_id": "",
       "version_major": 2,
       "version_minor": 0
      },
      "text/plain": [
       "Sub-progress: split ratios:   0%|          | 0/1 [00:00<?, ?it/s]"
      ]
     },
     "metadata": {},
     "output_type": "display_data"
    },
    {
     "data": {
      "application/vnd.jupyter.widget-view+json": {
       "model_id": "",
       "version_major": 2,
       "version_minor": 0
      },
      "text/plain": [
       "Sub-progress: dates:   0%|          | 0/3 [00:00<?, ?it/s]"
      ]
     },
     "metadata": {},
     "output_type": "display_data"
    },
    {
     "data": {
      "application/vnd.jupyter.widget-view+json": {
       "model_id": "",
       "version_major": 2,
       "version_minor": 0
      },
      "text/plain": [
       "Sub-progress: split ratios:   0%|          | 0/1 [00:00<?, ?it/s]"
      ]
     },
     "metadata": {},
     "output_type": "display_data"
    },
    {
     "data": {
      "application/vnd.jupyter.widget-view+json": {
       "model_id": "",
       "version_major": 2,
       "version_minor": 0
      },
      "text/plain": [
       "Sub-progress: split ratios:   0%|          | 0/1 [00:00<?, ?it/s]"
      ]
     },
     "metadata": {},
     "output_type": "display_data"
    },
    {
     "data": {
      "application/vnd.jupyter.widget-view+json": {
       "model_id": "",
       "version_major": 2,
       "version_minor": 0
      },
      "text/plain": [
       "Sub-progress: split ratios:   0%|          | 0/1 [00:00<?, ?it/s]"
      ]
     },
     "metadata": {},
     "output_type": "display_data"
    },
    {
     "data": {
      "application/vnd.jupyter.widget-view+json": {
       "model_id": "",
       "version_major": 2,
       "version_minor": 0
      },
      "text/plain": [
       "Sub-progress: dates:   0%|          | 0/3 [00:00<?, ?it/s]"
      ]
     },
     "metadata": {},
     "output_type": "display_data"
    },
    {
     "data": {
      "application/vnd.jupyter.widget-view+json": {
       "model_id": "",
       "version_major": 2,
       "version_minor": 0
      },
      "text/plain": [
       "Sub-progress: split ratios:   0%|          | 0/1 [00:00<?, ?it/s]"
      ]
     },
     "metadata": {},
     "output_type": "display_data"
    },
    {
     "data": {
      "application/vnd.jupyter.widget-view+json": {
       "model_id": "",
       "version_major": 2,
       "version_minor": 0
      },
      "text/plain": [
       "Sub-progress: split ratios:   0%|          | 0/1 [00:00<?, ?it/s]"
      ]
     },
     "metadata": {},
     "output_type": "display_data"
    },
    {
     "data": {
      "application/vnd.jupyter.widget-view+json": {
       "model_id": "",
       "version_major": 2,
       "version_minor": 0
      },
      "text/plain": [
       "Sub-progress: split ratios:   0%|          | 0/1 [00:00<?, ?it/s]"
      ]
     },
     "metadata": {},
     "output_type": "display_data"
    },
    {
     "data": {
      "application/vnd.jupyter.widget-view+json": {
       "model_id": "",
       "version_major": 2,
       "version_minor": 0
      },
      "text/plain": [
       "Sub-progress: dates:   0%|          | 0/3 [00:00<?, ?it/s]"
      ]
     },
     "metadata": {},
     "output_type": "display_data"
    },
    {
     "data": {
      "application/vnd.jupyter.widget-view+json": {
       "model_id": "",
       "version_major": 2,
       "version_minor": 0
      },
      "text/plain": [
       "Sub-progress: split ratios:   0%|          | 0/1 [00:00<?, ?it/s]"
      ]
     },
     "metadata": {},
     "output_type": "display_data"
    },
    {
     "name": "stderr",
     "output_type": "stream",
     "text": [
      "/opt/conda/lib/python3.7/site-packages/pandas/core/dtypes/inference.py:213: ResourceWarning: unclosed <ssl.SSLSocket fd=77, family=AddressFamily.AF_INET, type=SocketKind.SOCK_STREAM, proto=6, laddr=('10.240.255.118', 57740), raddr=('173.194.194.95', 443)>\n",
      "  return is_list_like(obj) and hasattr(obj, \"dtype\")\n",
      "ResourceWarning: Enable tracemalloc to get the object allocation traceback\n"
     ]
    },
    {
     "data": {
      "application/vnd.jupyter.widget-view+json": {
       "model_id": "",
       "version_major": 2,
       "version_minor": 0
      },
      "text/plain": [
       "Sub-progress: split ratios:   0%|          | 0/1 [00:00<?, ?it/s]"
      ]
     },
     "metadata": {},
     "output_type": "display_data"
    },
    {
     "data": {
      "application/vnd.jupyter.widget-view+json": {
       "model_id": "",
       "version_major": 2,
       "version_minor": 0
      },
      "text/plain": [
       "Sub-progress: split ratios:   0%|          | 0/1 [00:00<?, ?it/s]"
      ]
     },
     "metadata": {},
     "output_type": "display_data"
    },
    {
     "data": {
      "application/vnd.jupyter.widget-view+json": {
       "model_id": "",
       "version_major": 2,
       "version_minor": 0
      },
      "text/plain": [
       "Sub-progress: dates:   0%|          | 0/3 [00:00<?, ?it/s]"
      ]
     },
     "metadata": {},
     "output_type": "display_data"
    },
    {
     "data": {
      "application/vnd.jupyter.widget-view+json": {
       "model_id": "",
       "version_major": 2,
       "version_minor": 0
      },
      "text/plain": [
       "Sub-progress: split ratios:   0%|          | 0/1 [00:00<?, ?it/s]"
      ]
     },
     "metadata": {},
     "output_type": "display_data"
    },
    {
     "data": {
      "application/vnd.jupyter.widget-view+json": {
       "model_id": "",
       "version_major": 2,
       "version_minor": 0
      },
      "text/plain": [
       "Sub-progress: split ratios:   0%|          | 0/1 [00:00<?, ?it/s]"
      ]
     },
     "metadata": {},
     "output_type": "display_data"
    },
    {
     "data": {
      "application/vnd.jupyter.widget-view+json": {
       "model_id": "",
       "version_major": 2,
       "version_minor": 0
      },
      "text/plain": [
       "Sub-progress: split ratios:   0%|          | 0/1 [00:00<?, ?it/s]"
      ]
     },
     "metadata": {},
     "output_type": "display_data"
    },
    {
     "data": {
      "application/vnd.jupyter.widget-view+json": {
       "model_id": "",
       "version_major": 2,
       "version_minor": 0
      },
      "text/plain": [
       "Sub-progress: dates:   0%|          | 0/3 [00:00<?, ?it/s]"
      ]
     },
     "metadata": {},
     "output_type": "display_data"
    },
    {
     "data": {
      "application/vnd.jupyter.widget-view+json": {
       "model_id": "",
       "version_major": 2,
       "version_minor": 0
      },
      "text/plain": [
       "Sub-progress: split ratios:   0%|          | 0/1 [00:00<?, ?it/s]"
      ]
     },
     "metadata": {},
     "output_type": "display_data"
    },
    {
     "data": {
      "application/vnd.jupyter.widget-view+json": {
       "model_id": "",
       "version_major": 2,
       "version_minor": 0
      },
      "text/plain": [
       "Sub-progress: split ratios:   0%|          | 0/1 [00:00<?, ?it/s]"
      ]
     },
     "metadata": {},
     "output_type": "display_data"
    },
    {
     "data": {
      "application/vnd.jupyter.widget-view+json": {
       "model_id": "",
       "version_major": 2,
       "version_minor": 0
      },
      "text/plain": [
       "Sub-progress: split ratios:   0%|          | 0/1 [00:00<?, ?it/s]"
      ]
     },
     "metadata": {},
     "output_type": "display_data"
    },
    {
     "data": {
      "application/vnd.jupyter.widget-view+json": {
       "model_id": "",
       "version_major": 2,
       "version_minor": 0
      },
      "text/plain": [
       "Sub-progress: dates:   0%|          | 0/3 [00:00<?, ?it/s]"
      ]
     },
     "metadata": {},
     "output_type": "display_data"
    },
    {
     "data": {
      "application/vnd.jupyter.widget-view+json": {
       "model_id": "",
       "version_major": 2,
       "version_minor": 0
      },
      "text/plain": [
       "Sub-progress: split ratios:   0%|          | 0/1 [00:00<?, ?it/s]"
      ]
     },
     "metadata": {},
     "output_type": "display_data"
    },
    {
     "data": {
      "application/vnd.jupyter.widget-view+json": {
       "model_id": "",
       "version_major": 2,
       "version_minor": 0
      },
      "text/plain": [
       "Sub-progress: split ratios:   0%|          | 0/1 [00:00<?, ?it/s]"
      ]
     },
     "metadata": {},
     "output_type": "display_data"
    },
    {
     "data": {
      "application/vnd.jupyter.widget-view+json": {
       "model_id": "",
       "version_major": 2,
       "version_minor": 0
      },
      "text/plain": [
       "Sub-progress: split ratios:   0%|          | 0/1 [00:00<?, ?it/s]"
      ]
     },
     "metadata": {},
     "output_type": "display_data"
    },
    {
     "data": {
      "application/vnd.jupyter.widget-view+json": {
       "model_id": "",
       "version_major": 2,
       "version_minor": 0
      },
      "text/plain": [
       "Sub-progress: dates:   0%|          | 0/3 [00:00<?, ?it/s]"
      ]
     },
     "metadata": {},
     "output_type": "display_data"
    },
    {
     "data": {
      "application/vnd.jupyter.widget-view+json": {
       "model_id": "",
       "version_major": 2,
       "version_minor": 0
      },
      "text/plain": [
       "Sub-progress: split ratios:   0%|          | 0/1 [00:00<?, ?it/s]"
      ]
     },
     "metadata": {},
     "output_type": "display_data"
    },
    {
     "data": {
      "application/vnd.jupyter.widget-view+json": {
       "model_id": "",
       "version_major": 2,
       "version_minor": 0
      },
      "text/plain": [
       "Sub-progress: split ratios:   0%|          | 0/1 [00:00<?, ?it/s]"
      ]
     },
     "metadata": {},
     "output_type": "display_data"
    },
    {
     "data": {
      "application/vnd.jupyter.widget-view+json": {
       "model_id": "",
       "version_major": 2,
       "version_minor": 0
      },
      "text/plain": [
       "Sub-progress: split ratios:   0%|          | 0/1 [00:00<?, ?it/s]"
      ]
     },
     "metadata": {},
     "output_type": "display_data"
    },
    {
     "name": "stdout",
     "output_type": "stream",
     "text": [
      "CPU times: user 5min 46s, sys: 38.5 s, total: 6min 24s\n",
      "Wall time: 5min 11s\n"
     ]
    }
   ],
   "source": [
    "%%time\n",
    "test_sim.sim_design(\n",
    "    method_family='gemini', \n",
    "    metrics=METRICS, \n",
    "    subsample_size=SUBSAMPLE_SIZE, \n",
    "    date_column=DATE_COLUMN,\n",
    "    num_unit_subsamples=NUM_UNIT_SUBSAMPLES,\n",
    "    methods=DESIGN_METHODS,\n",
    "    cutover_ranges = CUTOVER_RANGES, \n",
    "    subgroup_ranges = SUBGROUP_RANGES \n",
    ")"
   ]
  },
  {
   "cell_type": "markdown",
   "id": "d8b7b899-6885-40c5-a817-e7a71d91d425",
   "metadata": {},
   "source": [
    "## 5. Measure simulated experiments"
   ]
  },
  {
   "cell_type": "markdown",
   "id": "edb16bdc-579c-4166-9fa9-94693ca55164",
   "metadata": {},
   "source": [
    "#### 5a. Measure lift in simulated experiments and calculate minimum detectable lift ratio\n",
    "\n",
    "- `MDLR:` By calculating MDLR, we are trying to answer the question: How big does the lift ratio need to be in order for us to detect it as statistically significant? The MDLR is the smallest lift ratio that we expect to detect (as statistically significant) with 80% probability. Although we loosely refer to this as a 'power analysis', this is more specifically a 'sensitivity analysis', since it aims to estimate the smallest detectable effect size. To estimate the MDLR, we use the variability in our A/A lift measurements."
   ]
  },
  {
   "cell_type": "code",
   "execution_count": 177,
   "id": "55f86b6d-ba1e-4632-873b-45dd7573d0a2",
   "metadata": {
    "execution": {
     "iopub.execute_input": "2024-05-15T16:50:31.261239Z",
     "iopub.status.busy": "2024-05-15T16:50:31.260360Z",
     "iopub.status.idle": "2024-05-15T16:55:23.015022Z",
     "shell.execute_reply": "2024-05-15T16:55:23.013811Z",
     "shell.execute_reply.started": "2024-05-15T16:50:31.261197Z"
    },
    "tags": []
   },
   "outputs": [
    {
     "data": {
      "application/vnd.jupyter.widget-view+json": {
       "model_id": "0539a862c4194012a4fb9b2733740190",
       "version_major": 2,
       "version_minor": 0
      },
      "text/plain": [
       "Total progress:   0%|          | 0/4 [00:00<?, ?it/s]"
      ]
     },
     "metadata": {},
     "output_type": "display_data"
    },
    {
     "data": {
      "application/vnd.jupyter.widget-view+json": {
       "model_id": "",
       "version_major": 2,
       "version_minor": 0
      },
      "text/plain": [
       "Sub-progress: split ratios:   0%|          | 0/1 [00:00<?, ?it/s]"
      ]
     },
     "metadata": {},
     "output_type": "display_data"
    },
    {
     "data": {
      "application/vnd.jupyter.widget-view+json": {
       "model_id": "",
       "version_major": 2,
       "version_minor": 0
      },
      "text/plain": [
       "Sub-progress: dates:   0%|          | 0/3 [00:00<?, ?it/s]"
      ]
     },
     "metadata": {},
     "output_type": "display_data"
    },
    {
     "data": {
      "application/vnd.jupyter.widget-view+json": {
       "model_id": "",
       "version_major": 2,
       "version_minor": 0
      },
      "text/plain": [
       "Sub-progress: subsamples:   0%|          | 0/10 [00:00<?, ?it/s]"
      ]
     },
     "metadata": {},
     "output_type": "display_data"
    },
    {
     "data": {
      "application/vnd.jupyter.widget-view+json": {
       "model_id": "",
       "version_major": 2,
       "version_minor": 0
      },
      "text/plain": [
       "Sub-progress: subsamples:   0%|          | 0/10 [00:00<?, ?it/s]"
      ]
     },
     "metadata": {},
     "output_type": "display_data"
    },
    {
     "data": {
      "application/vnd.jupyter.widget-view+json": {
       "model_id": "",
       "version_major": 2,
       "version_minor": 0
      },
      "text/plain": [
       "Sub-progress: subsamples:   0%|          | 0/10 [00:00<?, ?it/s]"
      ]
     },
     "metadata": {},
     "output_type": "display_data"
    },
    {
     "data": {
      "application/vnd.jupyter.widget-view+json": {
       "model_id": "",
       "version_major": 2,
       "version_minor": 0
      },
      "text/plain": [
       "Sub-progress: split ratios:   0%|          | 0/1 [00:00<?, ?it/s]"
      ]
     },
     "metadata": {},
     "output_type": "display_data"
    },
    {
     "data": {
      "application/vnd.jupyter.widget-view+json": {
       "model_id": "",
       "version_major": 2,
       "version_minor": 0
      },
      "text/plain": [
       "Sub-progress: dates:   0%|          | 0/3 [00:00<?, ?it/s]"
      ]
     },
     "metadata": {},
     "output_type": "display_data"
    },
    {
     "data": {
      "application/vnd.jupyter.widget-view+json": {
       "model_id": "",
       "version_major": 2,
       "version_minor": 0
      },
      "text/plain": [
       "Sub-progress: subsamples:   0%|          | 0/10 [00:00<?, ?it/s]"
      ]
     },
     "metadata": {},
     "output_type": "display_data"
    },
    {
     "data": {
      "application/vnd.jupyter.widget-view+json": {
       "model_id": "",
       "version_major": 2,
       "version_minor": 0
      },
      "text/plain": [
       "Sub-progress: subsamples:   0%|          | 0/10 [00:00<?, ?it/s]"
      ]
     },
     "metadata": {},
     "output_type": "display_data"
    },
    {
     "data": {
      "application/vnd.jupyter.widget-view+json": {
       "model_id": "",
       "version_major": 2,
       "version_minor": 0
      },
      "text/plain": [
       "Sub-progress: subsamples:   0%|          | 0/10 [00:00<?, ?it/s]"
      ]
     },
     "metadata": {},
     "output_type": "display_data"
    },
    {
     "data": {
      "application/vnd.jupyter.widget-view+json": {
       "model_id": "",
       "version_major": 2,
       "version_minor": 0
      },
      "text/plain": [
       "Sub-progress: split ratios:   0%|          | 0/1 [00:00<?, ?it/s]"
      ]
     },
     "metadata": {},
     "output_type": "display_data"
    },
    {
     "data": {
      "application/vnd.jupyter.widget-view+json": {
       "model_id": "",
       "version_major": 2,
       "version_minor": 0
      },
      "text/plain": [
       "Sub-progress: dates:   0%|          | 0/3 [00:00<?, ?it/s]"
      ]
     },
     "metadata": {},
     "output_type": "display_data"
    },
    {
     "data": {
      "application/vnd.jupyter.widget-view+json": {
       "model_id": "",
       "version_major": 2,
       "version_minor": 0
      },
      "text/plain": [
       "Sub-progress: subsamples:   0%|          | 0/10 [00:00<?, ?it/s]"
      ]
     },
     "metadata": {},
     "output_type": "display_data"
    },
    {
     "data": {
      "application/vnd.jupyter.widget-view+json": {
       "model_id": "",
       "version_major": 2,
       "version_minor": 0
      },
      "text/plain": [
       "Sub-progress: subsamples:   0%|          | 0/10 [00:00<?, ?it/s]"
      ]
     },
     "metadata": {},
     "output_type": "display_data"
    },
    {
     "data": {
      "application/vnd.jupyter.widget-view+json": {
       "model_id": "",
       "version_major": 2,
       "version_minor": 0
      },
      "text/plain": [
       "Sub-progress: subsamples:   0%|          | 0/10 [00:00<?, ?it/s]"
      ]
     },
     "metadata": {},
     "output_type": "display_data"
    },
    {
     "data": {
      "application/vnd.jupyter.widget-view+json": {
       "model_id": "",
       "version_major": 2,
       "version_minor": 0
      },
      "text/plain": [
       "Sub-progress: split ratios:   0%|          | 0/1 [00:00<?, ?it/s]"
      ]
     },
     "metadata": {},
     "output_type": "display_data"
    },
    {
     "data": {
      "application/vnd.jupyter.widget-view+json": {
       "model_id": "",
       "version_major": 2,
       "version_minor": 0
      },
      "text/plain": [
       "Sub-progress: dates:   0%|          | 0/3 [00:00<?, ?it/s]"
      ]
     },
     "metadata": {},
     "output_type": "display_data"
    },
    {
     "data": {
      "application/vnd.jupyter.widget-view+json": {
       "model_id": "",
       "version_major": 2,
       "version_minor": 0
      },
      "text/plain": [
       "Sub-progress: subsamples:   0%|          | 0/10 [00:00<?, ?it/s]"
      ]
     },
     "metadata": {},
     "output_type": "display_data"
    },
    {
     "data": {
      "application/vnd.jupyter.widget-view+json": {
       "model_id": "",
       "version_major": 2,
       "version_minor": 0
      },
      "text/plain": [
       "Sub-progress: subsamples:   0%|          | 0/10 [00:00<?, ?it/s]"
      ]
     },
     "metadata": {},
     "output_type": "display_data"
    },
    {
     "data": {
      "application/vnd.jupyter.widget-view+json": {
       "model_id": "",
       "version_major": 2,
       "version_minor": 0
      },
      "text/plain": [
       "Sub-progress: subsamples:   0%|          | 0/10 [00:00<?, ?it/s]"
      ]
     },
     "metadata": {},
     "output_type": "display_data"
    },
    {
     "name": "stdout",
     "output_type": "stream",
     "text": [
      "CPU times: user 5min 5s, sys: 23.6 s, total: 5min 29s\n",
      "Wall time: 4min 51s\n"
     ]
    }
   ],
   "source": [
    "%%time\n",
    "test_sim.sim_measurement(\n",
    "    method_family='gemini',\n",
    "    method='gemini_v5',\n",
    "    group_names={\n",
    "        'control': 0, # Change these and re-run this cell to change which groups you want to compare\n",
    "        'treatment': 1,\n",
    "    },\n",
    "    metrics=METRICS,\n",
    "    assignment_column='TestGroup',  # Unlikely to be modified by user in simulations\n",
    "    subgroup_column='SubGroup',  # Unlikely to be modified by user in simulations\n",
    "    date_column=DATE_COLUMN,\n",
    "    level=CONFIDENCE_LEVEL,\n",
    "    power=POWER,\n",
    "    tail=2\n",
    ")"
   ]
  },
  {
   "cell_type": "code",
   "execution_count": 178,
   "id": "dc868977-e539-4186-9809-c63bdcb2202e",
   "metadata": {
    "execution": {
     "iopub.execute_input": "2024-05-15T16:55:41.183490Z",
     "iopub.status.busy": "2024-05-15T16:55:41.182740Z",
     "iopub.status.idle": "2024-05-15T16:55:41.224847Z",
     "shell.execute_reply": "2024-05-15T16:55:41.223712Z",
     "shell.execute_reply.started": "2024-05-15T16:55:41.183456Z"
    },
    "tags": []
   },
   "outputs": [
    {
     "data": {
      "text/html": [
       "<div>\n",
       "<style scoped>\n",
       "    .dataframe tbody tr th:only-of-type {\n",
       "        vertical-align: middle;\n",
       "    }\n",
       "\n",
       "    .dataframe tbody tr th {\n",
       "        vertical-align: top;\n",
       "    }\n",
       "\n",
       "    .dataframe thead th {\n",
       "        text-align: right;\n",
       "    }\n",
       "</style>\n",
       "<table border=\"1\" class=\"dataframe\">\n",
       "  <thead>\n",
       "    <tr style=\"text-align: right;\">\n",
       "      <th></th>\n",
       "      <th>Group_0_daily_average</th>\n",
       "      <th>Group_0_daily_average_scaled</th>\n",
       "      <th>Group_1_daily_average</th>\n",
       "      <th>Group_1_daily_average_scaled</th>\n",
       "      <th>Scale</th>\n",
       "      <th>Daily_lift_scaled</th>\n",
       "      <th>Daily_lift_CI</th>\n",
       "      <th>P_value</th>\n",
       "      <th>Lift_ratio</th>\n",
       "      <th>Cumulative_lift_scaled</th>\n",
       "      <th>Cumulative_lift_CI</th>\n",
       "      <th>Test_duration</th>\n",
       "      <th>Confidence_level</th>\n",
       "      <th>method</th>\n",
       "      <th>metric</th>\n",
       "      <th>split_ratios</th>\n",
       "      <th>test_start</th>\n",
       "      <th>mdlr</th>\n",
       "    </tr>\n",
       "  </thead>\n",
       "  <tbody>\n",
       "    <tr>\n",
       "      <th>Traffic</th>\n",
       "      <td>4125.857143</td>\n",
       "      <td>8251.714286</td>\n",
       "      <td>4254.357143</td>\n",
       "      <td>8508.714286</td>\n",
       "      <td>full-scale</td>\n",
       "      <td>157.071429</td>\n",
       "      <td>(29.147235335863975, 284.9956218069923)</td>\n",
       "      <td>0.043422</td>\n",
       "      <td>0.018807</td>\n",
       "      <td>4398.000000</td>\n",
       "      <td>(816.1225894041913, 7979.877410595784)</td>\n",
       "      <td>28</td>\n",
       "      <td>0.9</td>\n",
       "      <td>gemini_v5</td>\n",
       "      <td>Traffic</td>\n",
       "      <td>['0.5', '0.5']</td>\n",
       "      <td>2024-04-01</td>\n",
       "      <td>2.343502</td>\n",
       "    </tr>\n",
       "    <tr>\n",
       "      <th>Traffic</th>\n",
       "      <td>5218.250000</td>\n",
       "      <td>10436.500000</td>\n",
       "      <td>5045.571429</td>\n",
       "      <td>10091.142857</td>\n",
       "      <td>full-scale</td>\n",
       "      <td>-22.428571</td>\n",
       "      <td>(-198.5038534906414, 153.64671063349738)</td>\n",
       "      <td>0.834040</td>\n",
       "      <td>-0.002218</td>\n",
       "      <td>-628.000000</td>\n",
       "      <td>(-5558.107897737959, 4302.107897737927)</td>\n",
       "      <td>28</td>\n",
       "      <td>0.9</td>\n",
       "      <td>gemini_v5</td>\n",
       "      <td>Traffic</td>\n",
       "      <td>['0.5', '0.5']</td>\n",
       "      <td>2024-04-01</td>\n",
       "      <td>2.550353</td>\n",
       "    </tr>\n",
       "    <tr>\n",
       "      <th>Traffic</th>\n",
       "      <td>4665.357143</td>\n",
       "      <td>9330.714286</td>\n",
       "      <td>4498.321429</td>\n",
       "      <td>8996.642857</td>\n",
       "      <td>full-scale</td>\n",
       "      <td>-57.000000</td>\n",
       "      <td>(-227.467875802478, 113.4678758024786)</td>\n",
       "      <td>0.582322</td>\n",
       "      <td>-0.006296</td>\n",
       "      <td>-1596.000000</td>\n",
       "      <td>(-6369.1005224693845, 3177.100522469401)</td>\n",
       "      <td>28</td>\n",
       "      <td>0.9</td>\n",
       "      <td>gemini_v5</td>\n",
       "      <td>Traffic</td>\n",
       "      <td>['0.5', '0.5']</td>\n",
       "      <td>2024-04-01</td>\n",
       "      <td>2.761751</td>\n",
       "    </tr>\n",
       "    <tr>\n",
       "      <th>Traffic</th>\n",
       "      <td>5272.607143</td>\n",
       "      <td>10545.214286</td>\n",
       "      <td>4925.571429</td>\n",
       "      <td>9851.142857</td>\n",
       "      <td>full-scale</td>\n",
       "      <td>-16.357143</td>\n",
       "      <td>(-208.76326551885924, 176.0489798045736)</td>\n",
       "      <td>0.888790</td>\n",
       "      <td>-0.001658</td>\n",
       "      <td>-458.000000</td>\n",
       "      <td>(-5845.371434528059, 4929.3714345280605)</td>\n",
       "      <td>28</td>\n",
       "      <td>0.9</td>\n",
       "      <td>gemini_v5</td>\n",
       "      <td>Traffic</td>\n",
       "      <td>['0.5', '0.5']</td>\n",
       "      <td>2024-04-01</td>\n",
       "      <td>2.758165</td>\n",
       "    </tr>\n",
       "    <tr>\n",
       "      <th>Traffic</th>\n",
       "      <td>4059.107143</td>\n",
       "      <td>8118.214286</td>\n",
       "      <td>4318.321429</td>\n",
       "      <td>8636.642857</td>\n",
       "      <td>full-scale</td>\n",
       "      <td>40.785714</td>\n",
       "      <td>(-146.52873322569695, 228.10016179712443)</td>\n",
       "      <td>0.720232</td>\n",
       "      <td>0.004745</td>\n",
       "      <td>1142.000000</td>\n",
       "      <td>(-4102.804530319515, 6386.804530319484)</td>\n",
       "      <td>28</td>\n",
       "      <td>0.9</td>\n",
       "      <td>gemini_v5</td>\n",
       "      <td>Traffic</td>\n",
       "      <td>['0.5', '0.5']</td>\n",
       "      <td>2024-04-01</td>\n",
       "      <td>3.487929</td>\n",
       "    </tr>\n",
       "    <tr>\n",
       "      <th>...</th>\n",
       "      <td>...</td>\n",
       "      <td>...</td>\n",
       "      <td>...</td>\n",
       "      <td>...</td>\n",
       "      <td>...</td>\n",
       "      <td>...</td>\n",
       "      <td>...</td>\n",
       "      <td>...</td>\n",
       "      <td>...</td>\n",
       "      <td>...</td>\n",
       "      <td>...</td>\n",
       "      <td>...</td>\n",
       "      <td>...</td>\n",
       "      <td>...</td>\n",
       "      <td>...</td>\n",
       "      <td>...</td>\n",
       "      <td>...</td>\n",
       "      <td>...</td>\n",
       "    </tr>\n",
       "    <tr>\n",
       "      <th>avgPosition</th>\n",
       "      <td>10138.356248</td>\n",
       "      <td>20276.712497</td>\n",
       "      <td>10226.608739</td>\n",
       "      <td>20453.217478</td>\n",
       "      <td>full-scale</td>\n",
       "      <td>-49.770528</td>\n",
       "      <td>(-470.55045843296216, 371.00940322322754)</td>\n",
       "      <td>0.845741</td>\n",
       "      <td>-0.002427</td>\n",
       "      <td>-1393.574773</td>\n",
       "      <td>(-13175.412836122941, 10388.263290250372)</td>\n",
       "      <td>28</td>\n",
       "      <td>0.9</td>\n",
       "      <td>gemini_v5</td>\n",
       "      <td>avgPosition</td>\n",
       "      <td>['0.5', '0.5']</td>\n",
       "      <td>2024-03-10</td>\n",
       "      <td>3.136998</td>\n",
       "    </tr>\n",
       "    <tr>\n",
       "      <th>avgPosition</th>\n",
       "      <td>10196.089657</td>\n",
       "      <td>20392.179314</td>\n",
       "      <td>10184.615525</td>\n",
       "      <td>20369.231050</td>\n",
       "      <td>full-scale</td>\n",
       "      <td>150.034846</td>\n",
       "      <td>(-276.1017054132135, 576.1713982630845)</td>\n",
       "      <td>0.562506</td>\n",
       "      <td>0.007420</td>\n",
       "      <td>4200.975700</td>\n",
       "      <td>(-7730.847751569978, 16132.799151366366)</td>\n",
       "      <td>28</td>\n",
       "      <td>0.9</td>\n",
       "      <td>gemini_v5</td>\n",
       "      <td>avgPosition</td>\n",
       "      <td>['0.5', '0.5']</td>\n",
       "      <td>2024-03-10</td>\n",
       "      <td>3.158944</td>\n",
       "    </tr>\n",
       "    <tr>\n",
       "      <th>avgPosition</th>\n",
       "      <td>10951.941117</td>\n",
       "      <td>21903.882234</td>\n",
       "      <td>10950.231269</td>\n",
       "      <td>21900.462539</td>\n",
       "      <td>full-scale</td>\n",
       "      <td>-56.682322</td>\n",
       "      <td>(-459.12743726629003, 345.7627940937722)</td>\n",
       "      <td>0.816795</td>\n",
       "      <td>-0.002581</td>\n",
       "      <td>-1587.105004</td>\n",
       "      <td>(-12855.56824345612, 9681.35823462562)</td>\n",
       "      <td>28</td>\n",
       "      <td>0.9</td>\n",
       "      <td>gemini_v5</td>\n",
       "      <td>avgPosition</td>\n",
       "      <td>['0.5', '0.5']</td>\n",
       "      <td>2024-03-10</td>\n",
       "      <td>2.777425</td>\n",
       "    </tr>\n",
       "    <tr>\n",
       "      <th>avgPosition</th>\n",
       "      <td>10179.699374</td>\n",
       "      <td>20359.398747</td>\n",
       "      <td>10204.343012</td>\n",
       "      <td>20408.686023</td>\n",
       "      <td>full-scale</td>\n",
       "      <td>-236.814551</td>\n",
       "      <td>(-588.6312205176818, 115.00211764378503)</td>\n",
       "      <td>0.268215</td>\n",
       "      <td>-0.011471</td>\n",
       "      <td>-6630.807440</td>\n",
       "      <td>(-16481.67417449509, 3220.0592940259808)</td>\n",
       "      <td>28</td>\n",
       "      <td>0.9</td>\n",
       "      <td>gemini_v5</td>\n",
       "      <td>avgPosition</td>\n",
       "      <td>['0.5', '0.5']</td>\n",
       "      <td>2024-03-10</td>\n",
       "      <td>2.612211</td>\n",
       "    </tr>\n",
       "    <tr>\n",
       "      <th>avgPosition</th>\n",
       "      <td>11744.297486</td>\n",
       "      <td>23488.594972</td>\n",
       "      <td>11921.501259</td>\n",
       "      <td>23843.002519</td>\n",
       "      <td>full-scale</td>\n",
       "      <td>346.974185</td>\n",
       "      <td>(2.134567653374191, 691.8138033211056)</td>\n",
       "      <td>0.097917</td>\n",
       "      <td>0.014767</td>\n",
       "      <td>9715.277194</td>\n",
       "      <td>(59.767894294477344, 19370.78649299096)</td>\n",
       "      <td>28</td>\n",
       "      <td>0.9</td>\n",
       "      <td>gemini_v5</td>\n",
       "      <td>avgPosition</td>\n",
       "      <td>['0.5', '0.5']</td>\n",
       "      <td>2024-03-10</td>\n",
       "      <td>2.219305</td>\n",
       "    </tr>\n",
       "  </tbody>\n",
       "</table>\n",
       "<p>120 rows × 18 columns</p>\n",
       "</div>"
      ],
      "text/plain": [
       "             Group_0_daily_average  Group_0_daily_average_scaled  \\\n",
       "Traffic                4125.857143                   8251.714286   \n",
       "Traffic                5218.250000                  10436.500000   \n",
       "Traffic                4665.357143                   9330.714286   \n",
       "Traffic                5272.607143                  10545.214286   \n",
       "Traffic                4059.107143                   8118.214286   \n",
       "...                            ...                           ...   \n",
       "avgPosition           10138.356248                  20276.712497   \n",
       "avgPosition           10196.089657                  20392.179314   \n",
       "avgPosition           10951.941117                  21903.882234   \n",
       "avgPosition           10179.699374                  20359.398747   \n",
       "avgPosition           11744.297486                  23488.594972   \n",
       "\n",
       "             Group_1_daily_average  Group_1_daily_average_scaled       Scale  \\\n",
       "Traffic                4254.357143                   8508.714286  full-scale   \n",
       "Traffic                5045.571429                  10091.142857  full-scale   \n",
       "Traffic                4498.321429                   8996.642857  full-scale   \n",
       "Traffic                4925.571429                   9851.142857  full-scale   \n",
       "Traffic                4318.321429                   8636.642857  full-scale   \n",
       "...                            ...                           ...         ...   \n",
       "avgPosition           10226.608739                  20453.217478  full-scale   \n",
       "avgPosition           10184.615525                  20369.231050  full-scale   \n",
       "avgPosition           10950.231269                  21900.462539  full-scale   \n",
       "avgPosition           10204.343012                  20408.686023  full-scale   \n",
       "avgPosition           11921.501259                  23843.002519  full-scale   \n",
       "\n",
       "             Daily_lift_scaled                              Daily_lift_CI  \\\n",
       "Traffic             157.071429    (29.147235335863975, 284.9956218069923)   \n",
       "Traffic             -22.428571   (-198.5038534906414, 153.64671063349738)   \n",
       "Traffic             -57.000000     (-227.467875802478, 113.4678758024786)   \n",
       "Traffic             -16.357143   (-208.76326551885924, 176.0489798045736)   \n",
       "Traffic              40.785714  (-146.52873322569695, 228.10016179712443)   \n",
       "...                        ...                                        ...   \n",
       "avgPosition         -49.770528  (-470.55045843296216, 371.00940322322754)   \n",
       "avgPosition         150.034846    (-276.1017054132135, 576.1713982630845)   \n",
       "avgPosition         -56.682322   (-459.12743726629003, 345.7627940937722)   \n",
       "avgPosition        -236.814551   (-588.6312205176818, 115.00211764378503)   \n",
       "avgPosition         346.974185     (2.134567653374191, 691.8138033211056)   \n",
       "\n",
       "              P_value  Lift_ratio  Cumulative_lift_scaled  \\\n",
       "Traffic      0.043422    0.018807             4398.000000   \n",
       "Traffic      0.834040   -0.002218             -628.000000   \n",
       "Traffic      0.582322   -0.006296            -1596.000000   \n",
       "Traffic      0.888790   -0.001658             -458.000000   \n",
       "Traffic      0.720232    0.004745             1142.000000   \n",
       "...               ...         ...                     ...   \n",
       "avgPosition  0.845741   -0.002427            -1393.574773   \n",
       "avgPosition  0.562506    0.007420             4200.975700   \n",
       "avgPosition  0.816795   -0.002581            -1587.105004   \n",
       "avgPosition  0.268215   -0.011471            -6630.807440   \n",
       "avgPosition  0.097917    0.014767             9715.277194   \n",
       "\n",
       "                                    Cumulative_lift_CI Test_duration  \\\n",
       "Traffic         (816.1225894041913, 7979.877410595784)            28   \n",
       "Traffic        (-5558.107897737959, 4302.107897737927)            28   \n",
       "Traffic       (-6369.1005224693845, 3177.100522469401)            28   \n",
       "Traffic       (-5845.371434528059, 4929.3714345280605)            28   \n",
       "Traffic        (-4102.804530319515, 6386.804530319484)            28   \n",
       "...                                                ...           ...   \n",
       "avgPosition  (-13175.412836122941, 10388.263290250372)            28   \n",
       "avgPosition   (-7730.847751569978, 16132.799151366366)            28   \n",
       "avgPosition     (-12855.56824345612, 9681.35823462562)            28   \n",
       "avgPosition   (-16481.67417449509, 3220.0592940259808)            28   \n",
       "avgPosition    (59.767894294477344, 19370.78649299096)            28   \n",
       "\n",
       "             Confidence_level     method       metric    split_ratios  \\\n",
       "Traffic                   0.9  gemini_v5      Traffic  ['0.5', '0.5']   \n",
       "Traffic                   0.9  gemini_v5      Traffic  ['0.5', '0.5']   \n",
       "Traffic                   0.9  gemini_v5      Traffic  ['0.5', '0.5']   \n",
       "Traffic                   0.9  gemini_v5      Traffic  ['0.5', '0.5']   \n",
       "Traffic                   0.9  gemini_v5      Traffic  ['0.5', '0.5']   \n",
       "...                       ...        ...          ...             ...   \n",
       "avgPosition               0.9  gemini_v5  avgPosition  ['0.5', '0.5']   \n",
       "avgPosition               0.9  gemini_v5  avgPosition  ['0.5', '0.5']   \n",
       "avgPosition               0.9  gemini_v5  avgPosition  ['0.5', '0.5']   \n",
       "avgPosition               0.9  gemini_v5  avgPosition  ['0.5', '0.5']   \n",
       "avgPosition               0.9  gemini_v5  avgPosition  ['0.5', '0.5']   \n",
       "\n",
       "             test_start      mdlr  \n",
       "Traffic      2024-04-01  2.343502  \n",
       "Traffic      2024-04-01  2.550353  \n",
       "Traffic      2024-04-01  2.761751  \n",
       "Traffic      2024-04-01  2.758165  \n",
       "Traffic      2024-04-01  3.487929  \n",
       "...                 ...       ...  \n",
       "avgPosition  2024-03-10  3.136998  \n",
       "avgPosition  2024-03-10  3.158944  \n",
       "avgPosition  2024-03-10  2.777425  \n",
       "avgPosition  2024-03-10  2.612211  \n",
       "avgPosition  2024-03-10  2.219305  \n",
       "\n",
       "[120 rows x 18 columns]"
      ]
     },
     "metadata": {},
     "output_type": "display_data"
    }
   ],
   "source": [
    "# Format measurement results and drop duplicate measurements that can occur if measurement cells\n",
    "# were run multiple times.\n",
    "measurement_summary = pd.concat(test_sim.summary_measurement, axis=0)\n",
    "measurement_summary['split_ratios'] = measurement_summary['split_ratios'].astype('str')\n",
    "measurement_summary['Daily_lift_CI'] = measurement_summary['Daily_lift_CI'].astype('str')\n",
    "measurement_summary.drop_duplicates(inplace=True)\n",
    "\n",
    "# Reorder columns\n",
    "group_cols = sorted([col for col in measurement_summary.columns if 'Group' in col])\n",
    "not_group_cols = [col for col in measurement_summary.columns if col not in group_cols]\n",
    "group_cols.extend(not_group_cols)\n",
    "measurement_summary = measurement_summary[group_cols]\n",
    "\n",
    "display(measurement_summary)"
   ]
  },
  {
   "cell_type": "markdown",
   "id": "de93d03b-19c9-439d-817e-6df1fd1751ff",
   "metadata": {
    "tags": []
   },
   "source": [
    "#### 5b. Optional: store and read stored measurement results"
   ]
  },
  {
   "cell_type": "code",
   "execution_count": 179,
   "id": "ef96418f-2760-4e8a-9f31-6808a88dfa79",
   "metadata": {
    "execution": {
     "iopub.execute_input": "2024-05-15T16:55:44.137409Z",
     "iopub.status.busy": "2024-05-15T16:55:44.136560Z",
     "iopub.status.idle": "2024-05-15T16:55:44.142788Z",
     "shell.execute_reply": "2024-05-15T16:55:44.141672Z",
     "shell.execute_reply.started": "2024-05-15T16:55:44.137371Z"
    },
    "tags": []
   },
   "outputs": [
    {
     "name": "stdout",
     "output_type": "stream",
     "text": [
      "/home/jupyter\n"
     ]
    }
   ],
   "source": [
    "cd $DIR"
   ]
  },
  {
   "cell_type": "code",
   "execution_count": 180,
   "id": "b9be028d-3a90-4f44-8e89-3b189c23dcd7",
   "metadata": {
    "execution": {
     "iopub.execute_input": "2024-05-15T16:55:45.610185Z",
     "iopub.status.busy": "2024-05-15T16:55:45.609389Z",
     "iopub.status.idle": "2024-05-15T16:55:45.615497Z",
     "shell.execute_reply": "2024-05-15T16:55:45.614277Z",
     "shell.execute_reply.started": "2024-05-15T16:55:45.610149Z"
    },
    "tags": []
   },
   "outputs": [],
   "source": [
    "if WRITE_LOCAL_RESULTS:\n",
    "    with open(measurement_results_file, 'wb') as handle:\n",
    "        pickle.dump(measurement_summary, handle)\n",
    "if READ_LOCAL_RESULTS:\n",
    "    measurement_summary = pickle.load(open(measurement_results_file, 'rb'))\n",
    "else:\n",
    "    measurement_summary = measurement_summary"
   ]
  },
  {
   "cell_type": "markdown",
   "id": "710520b0-8077-4d79-80f6-23ea7872c8a9",
   "metadata": {},
   "source": [
    "## 6. Visualize simulation results"
   ]
  },
  {
   "cell_type": "markdown",
   "id": "69367f30-1401-455d-b3fa-8b0936e965af",
   "metadata": {},
   "source": [
    "#### 6a. Minimum detectable lift ratio"
   ]
  },
  {
   "cell_type": "code",
   "execution_count": 181,
   "id": "3c977002-4516-4e46-a61c-58399b906614",
   "metadata": {
    "execution": {
     "iopub.execute_input": "2024-05-15T16:55:48.562967Z",
     "iopub.status.busy": "2024-05-15T16:55:48.562577Z",
     "iopub.status.idle": "2024-05-15T16:55:48.598167Z",
     "shell.execute_reply": "2024-05-15T16:55:48.596925Z",
     "shell.execute_reply.started": "2024-05-15T16:55:48.562936Z"
    },
    "tags": []
   },
   "outputs": [
    {
     "data": {
      "text/html": [
       "<div>\n",
       "<style scoped>\n",
       "    .dataframe tbody tr th:only-of-type {\n",
       "        vertical-align: middle;\n",
       "    }\n",
       "\n",
       "    .dataframe tbody tr th {\n",
       "        vertical-align: top;\n",
       "    }\n",
       "\n",
       "    .dataframe thead th {\n",
       "        text-align: right;\n",
       "    }\n",
       "</style>\n",
       "<table border=\"1\" class=\"dataframe\">\n",
       "  <thead>\n",
       "    <tr style=\"text-align: right;\">\n",
       "      <th></th>\n",
       "      <th>method</th>\n",
       "      <th>metric</th>\n",
       "      <th>split_ratios</th>\n",
       "      <th>mdlr_mean</th>\n",
       "    </tr>\n",
       "  </thead>\n",
       "  <tbody>\n",
       "    <tr>\n",
       "      <th>0</th>\n",
       "      <td>gemini_v5</td>\n",
       "      <td>Clicks</td>\n",
       "      <td>['0.5', '0.5']</td>\n",
       "      <td>3.973917</td>\n",
       "    </tr>\n",
       "    <tr>\n",
       "      <th>1</th>\n",
       "      <td>gemini_v5</td>\n",
       "      <td>Impressions</td>\n",
       "      <td>['0.5', '0.5']</td>\n",
       "      <td>5.510322</td>\n",
       "    </tr>\n",
       "    <tr>\n",
       "      <th>2</th>\n",
       "      <td>gemini_v5</td>\n",
       "      <td>Traffic</td>\n",
       "      <td>['0.5', '0.5']</td>\n",
       "      <td>2.725143</td>\n",
       "    </tr>\n",
       "    <tr>\n",
       "      <th>3</th>\n",
       "      <td>gemini_v5</td>\n",
       "      <td>avgPosition</td>\n",
       "      <td>['0.5', '0.5']</td>\n",
       "      <td>2.564051</td>\n",
       "    </tr>\n",
       "  </tbody>\n",
       "</table>\n",
       "</div>"
      ],
      "text/plain": [
       "      method       metric    split_ratios  mdlr_mean\n",
       "0  gemini_v5       Clicks  ['0.5', '0.5']   3.973917\n",
       "1  gemini_v5  Impressions  ['0.5', '0.5']   5.510322\n",
       "2  gemini_v5      Traffic  ['0.5', '0.5']   2.725143\n",
       "3  gemini_v5  avgPosition  ['0.5', '0.5']   2.564051"
      ]
     },
     "execution_count": 181,
     "metadata": {},
     "output_type": "execute_result"
    },
    {
     "data": {
      "text/html": [
       "<div>\n",
       "<style scoped>\n",
       "    .dataframe tbody tr th:only-of-type {\n",
       "        vertical-align: middle;\n",
       "    }\n",
       "\n",
       "    .dataframe tbody tr th {\n",
       "        vertical-align: top;\n",
       "    }\n",
       "\n",
       "    .dataframe thead th {\n",
       "        text-align: right;\n",
       "    }\n",
       "</style>\n",
       "<table border=\"1\" class=\"dataframe\">\n",
       "  <thead>\n",
       "    <tr style=\"text-align: right;\">\n",
       "      <th></th>\n",
       "      <th>Group_0_daily_average</th>\n",
       "      <th>Group_0_daily_average_scaled</th>\n",
       "      <th>Group_1_daily_average</th>\n",
       "      <th>Group_1_daily_average_scaled</th>\n",
       "      <th>Scale</th>\n",
       "      <th>Daily_lift_scaled</th>\n",
       "      <th>Daily_lift_CI</th>\n",
       "      <th>P_value</th>\n",
       "      <th>Lift_ratio</th>\n",
       "      <th>Cumulative_lift_scaled</th>\n",
       "      <th>Cumulative_lift_CI</th>\n",
       "      <th>Test_duration</th>\n",
       "      <th>Confidence_level</th>\n",
       "      <th>method</th>\n",
       "      <th>metric</th>\n",
       "      <th>split_ratios</th>\n",
       "      <th>test_start</th>\n",
       "      <th>mdlr</th>\n",
       "    </tr>\n",
       "  </thead>\n",
       "  <tbody>\n",
       "    <tr>\n",
       "      <th>Traffic</th>\n",
       "      <td>4125.857143</td>\n",
       "      <td>8251.714286</td>\n",
       "      <td>4254.357143</td>\n",
       "      <td>8508.714286</td>\n",
       "      <td>full-scale</td>\n",
       "      <td>157.071429</td>\n",
       "      <td>(29.147235335863975, 284.9956218069923)</td>\n",
       "      <td>0.043422</td>\n",
       "      <td>0.018807</td>\n",
       "      <td>4398.0</td>\n",
       "      <td>(816.1225894041913, 7979.877410595784)</td>\n",
       "      <td>28</td>\n",
       "      <td>0.9</td>\n",
       "      <td>gemini_v5</td>\n",
       "      <td>Traffic</td>\n",
       "      <td>['0.5', '0.5']</td>\n",
       "      <td>2024-04-01</td>\n",
       "      <td>2.343502</td>\n",
       "    </tr>\n",
       "    <tr>\n",
       "      <th>Traffic</th>\n",
       "      <td>5218.250000</td>\n",
       "      <td>10436.500000</td>\n",
       "      <td>5045.571429</td>\n",
       "      <td>10091.142857</td>\n",
       "      <td>full-scale</td>\n",
       "      <td>-22.428571</td>\n",
       "      <td>(-198.5038534906414, 153.64671063349738)</td>\n",
       "      <td>0.834040</td>\n",
       "      <td>-0.002218</td>\n",
       "      <td>-628.0</td>\n",
       "      <td>(-5558.107897737959, 4302.107897737927)</td>\n",
       "      <td>28</td>\n",
       "      <td>0.9</td>\n",
       "      <td>gemini_v5</td>\n",
       "      <td>Traffic</td>\n",
       "      <td>['0.5', '0.5']</td>\n",
       "      <td>2024-04-01</td>\n",
       "      <td>2.550353</td>\n",
       "    </tr>\n",
       "    <tr>\n",
       "      <th>Traffic</th>\n",
       "      <td>4665.357143</td>\n",
       "      <td>9330.714286</td>\n",
       "      <td>4498.321429</td>\n",
       "      <td>8996.642857</td>\n",
       "      <td>full-scale</td>\n",
       "      <td>-57.000000</td>\n",
       "      <td>(-227.467875802478, 113.4678758024786)</td>\n",
       "      <td>0.582322</td>\n",
       "      <td>-0.006296</td>\n",
       "      <td>-1596.0</td>\n",
       "      <td>(-6369.1005224693845, 3177.100522469401)</td>\n",
       "      <td>28</td>\n",
       "      <td>0.9</td>\n",
       "      <td>gemini_v5</td>\n",
       "      <td>Traffic</td>\n",
       "      <td>['0.5', '0.5']</td>\n",
       "      <td>2024-04-01</td>\n",
       "      <td>2.761751</td>\n",
       "    </tr>\n",
       "    <tr>\n",
       "      <th>Traffic</th>\n",
       "      <td>5272.607143</td>\n",
       "      <td>10545.214286</td>\n",
       "      <td>4925.571429</td>\n",
       "      <td>9851.142857</td>\n",
       "      <td>full-scale</td>\n",
       "      <td>-16.357143</td>\n",
       "      <td>(-208.76326551885924, 176.0489798045736)</td>\n",
       "      <td>0.888790</td>\n",
       "      <td>-0.001658</td>\n",
       "      <td>-458.0</td>\n",
       "      <td>(-5845.371434528059, 4929.3714345280605)</td>\n",
       "      <td>28</td>\n",
       "      <td>0.9</td>\n",
       "      <td>gemini_v5</td>\n",
       "      <td>Traffic</td>\n",
       "      <td>['0.5', '0.5']</td>\n",
       "      <td>2024-04-01</td>\n",
       "      <td>2.758165</td>\n",
       "    </tr>\n",
       "    <tr>\n",
       "      <th>Traffic</th>\n",
       "      <td>4059.107143</td>\n",
       "      <td>8118.214286</td>\n",
       "      <td>4318.321429</td>\n",
       "      <td>8636.642857</td>\n",
       "      <td>full-scale</td>\n",
       "      <td>40.785714</td>\n",
       "      <td>(-146.52873322569695, 228.10016179712443)</td>\n",
       "      <td>0.720232</td>\n",
       "      <td>0.004745</td>\n",
       "      <td>1142.0</td>\n",
       "      <td>(-4102.804530319515, 6386.804530319484)</td>\n",
       "      <td>28</td>\n",
       "      <td>0.9</td>\n",
       "      <td>gemini_v5</td>\n",
       "      <td>Traffic</td>\n",
       "      <td>['0.5', '0.5']</td>\n",
       "      <td>2024-04-01</td>\n",
       "      <td>3.487929</td>\n",
       "    </tr>\n",
       "  </tbody>\n",
       "</table>\n",
       "</div>"
      ],
      "text/plain": [
       "         Group_0_daily_average  Group_0_daily_average_scaled  \\\n",
       "Traffic            4125.857143                   8251.714286   \n",
       "Traffic            5218.250000                  10436.500000   \n",
       "Traffic            4665.357143                   9330.714286   \n",
       "Traffic            5272.607143                  10545.214286   \n",
       "Traffic            4059.107143                   8118.214286   \n",
       "\n",
       "         Group_1_daily_average  Group_1_daily_average_scaled       Scale  \\\n",
       "Traffic            4254.357143                   8508.714286  full-scale   \n",
       "Traffic            5045.571429                  10091.142857  full-scale   \n",
       "Traffic            4498.321429                   8996.642857  full-scale   \n",
       "Traffic            4925.571429                   9851.142857  full-scale   \n",
       "Traffic            4318.321429                   8636.642857  full-scale   \n",
       "\n",
       "         Daily_lift_scaled                              Daily_lift_CI  \\\n",
       "Traffic         157.071429    (29.147235335863975, 284.9956218069923)   \n",
       "Traffic         -22.428571   (-198.5038534906414, 153.64671063349738)   \n",
       "Traffic         -57.000000     (-227.467875802478, 113.4678758024786)   \n",
       "Traffic         -16.357143   (-208.76326551885924, 176.0489798045736)   \n",
       "Traffic          40.785714  (-146.52873322569695, 228.10016179712443)   \n",
       "\n",
       "          P_value  Lift_ratio  Cumulative_lift_scaled  \\\n",
       "Traffic  0.043422    0.018807                  4398.0   \n",
       "Traffic  0.834040   -0.002218                  -628.0   \n",
       "Traffic  0.582322   -0.006296                 -1596.0   \n",
       "Traffic  0.888790   -0.001658                  -458.0   \n",
       "Traffic  0.720232    0.004745                  1142.0   \n",
       "\n",
       "                               Cumulative_lift_CI Test_duration  \\\n",
       "Traffic    (816.1225894041913, 7979.877410595784)            28   \n",
       "Traffic   (-5558.107897737959, 4302.107897737927)            28   \n",
       "Traffic  (-6369.1005224693845, 3177.100522469401)            28   \n",
       "Traffic  (-5845.371434528059, 4929.3714345280605)            28   \n",
       "Traffic   (-4102.804530319515, 6386.804530319484)            28   \n",
       "\n",
       "         Confidence_level     method   metric    split_ratios  test_start  \\\n",
       "Traffic               0.9  gemini_v5  Traffic  ['0.5', '0.5']  2024-04-01   \n",
       "Traffic               0.9  gemini_v5  Traffic  ['0.5', '0.5']  2024-04-01   \n",
       "Traffic               0.9  gemini_v5  Traffic  ['0.5', '0.5']  2024-04-01   \n",
       "Traffic               0.9  gemini_v5  Traffic  ['0.5', '0.5']  2024-04-01   \n",
       "Traffic               0.9  gemini_v5  Traffic  ['0.5', '0.5']  2024-04-01   \n",
       "\n",
       "             mdlr  \n",
       "Traffic  2.343502  \n",
       "Traffic  2.550353  \n",
       "Traffic  2.761751  \n",
       "Traffic  2.758165  \n",
       "Traffic  3.487929  "
      ]
     },
     "execution_count": 181,
     "metadata": {},
     "output_type": "execute_result"
    }
   ],
   "source": [
    "# Examine mean MDLRs and simulation output. MDLR is in percent.\n",
    "mdlr_summary = measurement_summary.groupby(['method', 'metric', 'split_ratios'])['mdlr'].mean().reset_index()\n",
    "mdlr_summary.rename(columns={'mdlr': 'mdlr_mean'}, inplace=True)\n",
    "mdlr_summary\n",
    "measurement_summary.head()"
   ]
  },
  {
   "cell_type": "code",
   "execution_count": 182,
   "id": "e6664cd2-dcd2-4e16-a727-9c74438c2e27",
   "metadata": {
    "execution": {
     "iopub.execute_input": "2024-05-15T16:55:58.448771Z",
     "iopub.status.busy": "2024-05-15T16:55:58.448390Z",
     "iopub.status.idle": "2024-05-15T16:55:58.458683Z",
     "shell.execute_reply": "2024-05-15T16:55:58.457600Z",
     "shell.execute_reply.started": "2024-05-15T16:55:58.448739Z"
    },
    "tags": []
   },
   "outputs": [],
   "source": [
    "measurement_summary.to_csv(\"trialpoweranalysis.csv\")\n"
   ]
  },
  {
   "cell_type": "markdown",
   "id": "64385506-d0b8-48b7-b87e-8215c8ba7844",
   "metadata": {},
   "source": [
    "#### 6b. Visualize MDLR"
   ]
  },
  {
   "cell_type": "code",
   "execution_count": 183,
   "id": "d0849eb2-7d33-4d70-b4d7-7d14365dc68d",
   "metadata": {
    "execution": {
     "iopub.execute_input": "2024-05-15T16:55:59.525839Z",
     "iopub.status.busy": "2024-05-15T16:55:59.524867Z",
     "iopub.status.idle": "2024-05-15T16:56:00.613145Z",
     "shell.execute_reply": "2024-05-15T16:56:00.612082Z",
     "shell.execute_reply.started": "2024-05-15T16:55:59.525801Z"
    },
    "tags": []
   },
   "outputs": [
    {
     "data": {
      "image/png": "[encoded data removed]",
      "text/plain": [
       "<Figure size 700x2000 with 4 Axes>"
      ]
     },
     "metadata": {},
     "output_type": "display_data"
    }
   ],
   "source": [
    "plot_mdlr = sns.catplot(\n",
    "    x=\"split_ratios\", y='mdlr', col='metric', data=measurement_summary,\n",
    "    kind=\"box\", sharey=False, col_wrap=1, showfliers=False,\n",
    "    aspect=1.4) \n",
    "strp = plot_mdlr.map_dataframe(sns.stripplot, x=\"split_ratios\", y=\"mdlr\", hue='method', dodge=True, palette='dark:gray')\n",
    "labs = plot_mdlr.set_axis_labels(\"Split ratios\", \"Minimum detectable lift ratio (%)\")"
   ]
  },
  {
   "cell_type": "code",
   "execution_count": null,
   "id": "884e98fa-f4c4-4868-8161-289f5616addf",
   "metadata": {},
   "outputs": [],
   "source": []
  },
  {
   "cell_type": "code",
   "execution_count": null,
   "id": "075562b7-a398-45c0-a8d5-fd13add7cc90",
   "metadata": {},
   "outputs": [],
   "source": []
  }
 ],
 "metadata": {
  "environment": {
   "kernel": "python3",
   "name": "common-cpu.m108",
   "type": "gcloud",
   "uri": "gcr.io/deeplearning-platform-release/base-cpu:m108"
  },
  "kernelspec": {
   "display_name": "Python 3",
   "language": "python",
   "name": "python3"
  },
  "language_info": {
   "codemirror_mode": {
    "name": "ipython",
    "version": 3
   },
   "file_extension": ".py",
   "mimetype": "text/x-python",
   "name": "python",
   "nbconvert_exporter": "python",
   "pygments_lexer": "ipython3",
   "version": "3.7.12"
  }
 },
 "nbformat": 4,
 "nbformat_minor": 5
}
